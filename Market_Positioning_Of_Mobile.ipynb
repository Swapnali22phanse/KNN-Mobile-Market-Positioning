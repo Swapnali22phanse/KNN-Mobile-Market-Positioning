{
  "cells": [
    {
      "cell_type": "markdown",
      "metadata": {
        "id": "bAR9jcy9tinC"
      },
      "source": [
        "<table align=\"center\" width=100%>\n",
        "    <tr>\n",
        "        <td width=\"15%\">\n",
        "            <img src=\"mobile.jpg\">\n",
        "        </td>\n",
        "        <td>\n",
        "            <div align=\"center\">\n",
        "                <font color=\"#21618C\" size=24px>\n",
        "                    <b>Market Positioning Of Mobiles\n",
        "                    </b>\n",
        "                </font>\n",
        "            </div>\n",
        "        </td>\n",
        "    </tr>\n",
        "</table>"
      ]
    },
    {
      "cell_type": "markdown",
      "metadata": {
        "id": "j8wWk15NtinP"
      },
      "source": [
        "## Problem Statement\n",
        "\n",
        "There is a new mobile company and the CEO wants to give tough fight to big companies like Apple,Samsung etc.\n",
        "\n",
        "He has no idea of how to estimate price of mobiles his company creates. A simple assumption of the prices will not be profitable in this competitive world. To solve this problem he collects sales data of mobile phones of various companies.\n",
        "\n",
        "Thus, the CEO has hired you to find out some relation between features of a mobile phone(eg:- RAM,Internal Memory etc) and its selling price.\n",
        "You have to predict a price range indicating how high the price is."
      ]
    },
    {
      "cell_type": "markdown",
      "metadata": {
        "id": "TwIRIlsctinQ"
      },
      "source": [
        "## Data Definition\n",
        "\n",
        "**battery_power:** Total energy a battery can store in one time measured in mAh<br> \n",
        "\n",
        "**clock_speed:** Speed at which microprocessor executes instructions<br>\n",
        "\n",
        "**fc:** Front Camera mega pixels<br>\n",
        "\n",
        "**int_memory:** Internal Memory in Gigabytes<br>\n",
        "\n",
        "**m_dep:** Mobile Depth in cm<br>\n",
        "\n",
        "**mobile_wt:** Weight of mobile phone<br>\n",
        "\n",
        "**n_cores:** Number of cores of processor<br>\n",
        "\n",
        "**pc:** Primary Camera mega pixels<br>\n",
        "\n",
        "**px_height:** Pixel Resolution Height<br>\n",
        "\n",
        "**px_width:** Pixel Resolution Width<br>\n",
        "\n",
        "**ram:** Random Access Memory in Mega Bytes<br>\n",
        "\n",
        "**sc_h:** Screen Height of mobile in cm<br>\n",
        "\n",
        "**sc_w:** Screen Width of mobile in cm<br>\n",
        "\n",
        "**talk_time:** longest time that a single battery charge will last when you are<br>\n",
        "\n",
        "**price_range:** This is the target variable with value of 0(low cost), 1(medium cost), 2(high cost) and 3(very high cost)."
      ]
    },
    {
      "cell_type": "markdown",
      "metadata": {
        "id": "trkPCukEebnc"
      },
      "source": [
        "## Icon Legends\n",
        "<table>\n",
        "  <tr>\n",
        "    <th width=\"25%\"> <img src=\"infer.png\" style=\"width:25%;\"></th>\n",
        "    <th width=\"25%\"> <img src=\"alsoreadicon.png\" style=\"width:25%;\"></th>\n",
        "    <th width=\"25%\"> <img src=\"todo.png\" style=\"width:25%;\"></th>\n",
        "    <th width=\"25%\"> <img src=\"quicktip.png\" style=\"width:25%;\"></th>\n",
        "  </tr>\n",
        "  <tr>\n",
        "    <td><div align=\"center\" style=\"font-size:120%\">\n",
        "        <font color=\"#21618C\"><b>Inferences from outcome</b></font></div>\n",
        "    </td>\n",
        "    <td><div align=\"center\" style=\"font-size:120%\">\n",
        "        <font color=\"#21618C\"><b>Additional Reads</b></font></div>\n",
        "    </td>\n",
        "    <td><div align=\"center\" style=\"font-size:120%\">\n",
        "        <font color=\"#21618C\"><b>Lets do it</b></font></div>\n",
        "    </td>\n",
        "    <td><div align=\"center\" style=\"font-size:120%\">\n",
        "        <font color=\"#21618C\"><b>Quick Tips</b></font></div>\n",
        "    </td>\n",
        "\n",
        "</tr>\n",
        "\n",
        "</table>"
      ]
    },
    {
      "cell_type": "markdown",
      "metadata": {
        "id": "8XXh2q63tinT"
      },
      "source": [
        "## Table of Content\n",
        "\n",
        "1. **[Import Libraries](#import_lib)**\n",
        "2. **[Set Options](#set_options)**\n",
        "3. **[Read Data](#RD)**\n",
        "4. **[Data Analysis and Preparation](#data_preparation)**\n",
        "    - 4.1 - **[Understand the Dataset](#Data_Understanding)**\n",
        "        - 4.1.1 - **[Data Type](#Data_Types)**\n",
        "        - 4.1.2 - **[Summary Statistics](#Summary_Statistics)**\n",
        "        - 4.1.3 - **[Distribution of Variables](#distribution_variables)**\n",
        "        - 4.1.4 - **[Correlation](#correlation)**\n",
        "        - 4.1.5 - **[Discover Outliers](#outliers)**\n",
        "        - 4.1.6 - **[Missing Values](#Missing_Values)**      \n",
        "    - 4.2 - **[Prepare the Data](#Data_Preparation)**\n",
        "5. **[KNN](#knn)**"
      ]
    },
    {
      "cell_type": "markdown",
      "metadata": {
        "id": "AyalDMN-ebnc"
      },
      "source": [
        "<a id='import_lib'></a>\n",
        "# 1. Import Libraries"
      ]
    },
    {
      "cell_type": "markdown",
      "metadata": {
        "id": "CLpHxgqmtinV"
      },
      "source": [
        "<table align=\"left\">\n",
        "    <tr>\n",
        "        <td width=\"8%\">\n",
        "            <img src=\"todo.png\">\n",
        "        </td>\n",
        "        <td>\n",
        "            <div align=\"left\", style=\"font-size:120%\">\n",
        "                <font color=\"#21618C\">\n",
        "                    <b>Import the required libraries and functions</b>\n",
        "                </font>\n",
        "            </div>\n",
        "        </td>\n",
        "    </tr>\n",
        "</table>"
      ]
    },
    {
      "cell_type": "code",
      "execution_count": null,
      "metadata": {
        "id": "lBgh1J0Mebnd"
      },
      "outputs": [],
      "source": [
        "# suppress display of warnings\n",
        "import warnings\n",
        "warnings.filterwarnings(\"ignore\")\n",
        "\n",
        "# 'Pandas' is used for data manipulation and analysis\n",
        "import pandas as pd \n",
        "\n",
        "# 'Numpy' is used for mathematical operations on large, multi-dimensional arrays and matrices\n",
        "import numpy as np\n",
        "\n",
        "# 'Matplotlib' is a data visualization library for 2D and 3D plots, built on numpy\n",
        "import matplotlib.pyplot as plt\n",
        "from matplotlib.colors import ListedColormap\n",
        "\n",
        "# 'Seaborn' is based on matplotlib; used for plotting statistical graphics\n",
        "import seaborn as sns\n",
        "\n",
        "# import various functions to perform classification\n",
        "from sklearn.preprocessing import StandardScaler\n",
        "from sklearn.model_selection import train_test_split\n",
        "from sklearn import metrics\n",
        "from sklearn.metrics import classification_report\n",
        "from sklearn.metrics import cohen_kappa_score\n",
        "from sklearn.metrics import confusion_matrix\n",
        "from sklearn.model_selection import GridSearchCV\n",
        "from sklearn.neighbors import KNeighborsClassifier\n",
        "from sklearn.model_selection import cross_val_score "
      ]
    },
    {
      "cell_type": "code",
      "execution_count": null,
      "metadata": {
        "id": "Z8d_eotetinZ"
      },
      "outputs": [],
      "source": [
        "# set the plot size using 'rcParams'\n",
        "# once the plot size is set using 'rcParams', it sets the size of all the forthcoming plots in the file\n",
        "# pass width and height in inches to 'figure.figsize' \n",
        "plt.rcParams['figure.figsize'] = [15,8]"
      ]
    },
    {
      "cell_type": "markdown",
      "metadata": {
        "id": "Ll0ntaGOebng"
      },
      "source": [
        "<a id='set_options'></a>\n",
        "# 2. Set Options"
      ]
    },
    {
      "cell_type": "markdown",
      "metadata": {
        "id": "O2lgLYwEtind"
      },
      "source": [
        "<table align=\"left\">\n",
        "    <tr>\n",
        "        <td width=\"8%\">\n",
        "            <img src=\"todo.png\">\n",
        "        </td>\n",
        "        <td>\n",
        "            <div align=\"left\", style=\"font-size:120%\">\n",
        "                <font color=\"#21618C\">\n",
        "                    <b>Now we make necessary changes to :<br><br>\n",
        "1. Display complete data frames<br>\n",
        "2. To avoid the exponential number<br>\n",
        "                    </b>\n",
        "                </font>\n",
        "            </div>\n",
        "        </td>\n",
        "    </tr>\n",
        "</table>"
      ]
    },
    {
      "cell_type": "code",
      "execution_count": null,
      "metadata": {
        "id": "qJcw0J2Cebnh"
      },
      "outputs": [],
      "source": [
        "# display all columns of the dataframe\n",
        "pd.options.display.max_columns = None\n",
        "\n",
        "# display all rows of the dataframe\n",
        "pd.options.display.max_rows = None\n",
        "\n",
        "# use below code to convert the 'exponential' values to float\n",
        "np.set_printoptions(suppress=True)"
      ]
    },
    {
      "cell_type": "markdown",
      "metadata": {
        "id": "yPb9_if1ebnl"
      },
      "source": [
        "<a id='RD'></a>\n",
        "# 3. Read Data"
      ]
    },
    {
      "cell_type": "markdown",
      "metadata": {
        "id": "5_hkqnOcting"
      },
      "source": [
        "<table align=\"left\">\n",
        "    <tr>\n",
        "        <td width=\"8%\">\n",
        "            <img src=\"todo.png\">\n",
        "        </td>\n",
        "        <td>\n",
        "            <div align=\"left\", style=\"font-size:120%\">\n",
        "                <font color=\"#21618C\">\n",
        "                    <b>Read and display data to get an insight into the data.</b>\n",
        "                </font>\n",
        "            </div>\n",
        "        </td>\n",
        "    </tr>\n",
        "</table>"
      ]
    },
    {
      "cell_type": "code",
      "execution_count": null,
      "metadata": {
        "scrolled": true,
        "id": "9u3NqWKOtinh",
        "outputId": "ff9073e3-9830-4181-96cc-b13a85d35d09"
      },
      "outputs": [
        {
          "data": {
            "text/html": [
              "<div>\n",
              "<style scoped>\n",
              "    .dataframe tbody tr th:only-of-type {\n",
              "        vertical-align: middle;\n",
              "    }\n",
              "\n",
              "    .dataframe tbody tr th {\n",
              "        vertical-align: top;\n",
              "    }\n",
              "\n",
              "    .dataframe thead th {\n",
              "        text-align: right;\n",
              "    }\n",
              "</style>\n",
              "<table border=\"1\" class=\"dataframe\">\n",
              "  <thead>\n",
              "    <tr style=\"text-align: right;\">\n",
              "      <th></th>\n",
              "      <th>battery_power</th>\n",
              "      <th>clock_speed</th>\n",
              "      <th>fc</th>\n",
              "      <th>int_memory</th>\n",
              "      <th>m_dep</th>\n",
              "      <th>mobile_wt</th>\n",
              "      <th>n_cores</th>\n",
              "      <th>pc</th>\n",
              "      <th>px_height</th>\n",
              "      <th>px_width</th>\n",
              "      <th>ram</th>\n",
              "      <th>sc_h</th>\n",
              "      <th>sc_w</th>\n",
              "      <th>talk_time</th>\n",
              "      <th>price_range</th>\n",
              "    </tr>\n",
              "  </thead>\n",
              "  <tbody>\n",
              "    <tr>\n",
              "      <th>0</th>\n",
              "      <td>842</td>\n",
              "      <td>2.2</td>\n",
              "      <td>1</td>\n",
              "      <td>7</td>\n",
              "      <td>0.6</td>\n",
              "      <td>188</td>\n",
              "      <td>2</td>\n",
              "      <td>2</td>\n",
              "      <td>20</td>\n",
              "      <td>756</td>\n",
              "      <td>2549</td>\n",
              "      <td>9</td>\n",
              "      <td>7</td>\n",
              "      <td>19</td>\n",
              "      <td>1</td>\n",
              "    </tr>\n",
              "    <tr>\n",
              "      <th>1</th>\n",
              "      <td>1021</td>\n",
              "      <td>0.5</td>\n",
              "      <td>0</td>\n",
              "      <td>53</td>\n",
              "      <td>0.7</td>\n",
              "      <td>136</td>\n",
              "      <td>3</td>\n",
              "      <td>6</td>\n",
              "      <td>905</td>\n",
              "      <td>1988</td>\n",
              "      <td>2631</td>\n",
              "      <td>17</td>\n",
              "      <td>3</td>\n",
              "      <td>7</td>\n",
              "      <td>2</td>\n",
              "    </tr>\n",
              "    <tr>\n",
              "      <th>2</th>\n",
              "      <td>563</td>\n",
              "      <td>0.5</td>\n",
              "      <td>2</td>\n",
              "      <td>41</td>\n",
              "      <td>0.9</td>\n",
              "      <td>145</td>\n",
              "      <td>5</td>\n",
              "      <td>6</td>\n",
              "      <td>1263</td>\n",
              "      <td>1716</td>\n",
              "      <td>2603</td>\n",
              "      <td>11</td>\n",
              "      <td>2</td>\n",
              "      <td>9</td>\n",
              "      <td>2</td>\n",
              "    </tr>\n",
              "    <tr>\n",
              "      <th>3</th>\n",
              "      <td>615</td>\n",
              "      <td>2.5</td>\n",
              "      <td>0</td>\n",
              "      <td>10</td>\n",
              "      <td>0.8</td>\n",
              "      <td>131</td>\n",
              "      <td>6</td>\n",
              "      <td>9</td>\n",
              "      <td>1216</td>\n",
              "      <td>1786</td>\n",
              "      <td>2769</td>\n",
              "      <td>16</td>\n",
              "      <td>8</td>\n",
              "      <td>11</td>\n",
              "      <td>2</td>\n",
              "    </tr>\n",
              "    <tr>\n",
              "      <th>4</th>\n",
              "      <td>1821</td>\n",
              "      <td>1.2</td>\n",
              "      <td>13</td>\n",
              "      <td>44</td>\n",
              "      <td>0.6</td>\n",
              "      <td>141</td>\n",
              "      <td>2</td>\n",
              "      <td>14</td>\n",
              "      <td>1208</td>\n",
              "      <td>1212</td>\n",
              "      <td>1411</td>\n",
              "      <td>8</td>\n",
              "      <td>2</td>\n",
              "      <td>15</td>\n",
              "      <td>1</td>\n",
              "    </tr>\n",
              "  </tbody>\n",
              "</table>\n",
              "</div>"
            ],
            "text/plain": [
              "   battery_power  clock_speed  fc  int_memory  m_dep  mobile_wt  n_cores  pc  \\\n",
              "0            842          2.2   1           7    0.6        188        2   2   \n",
              "1           1021          0.5   0          53    0.7        136        3   6   \n",
              "2            563          0.5   2          41    0.9        145        5   6   \n",
              "3            615          2.5   0          10    0.8        131        6   9   \n",
              "4           1821          1.2  13          44    0.6        141        2  14   \n",
              "\n",
              "   px_height  px_width   ram  sc_h  sc_w  talk_time  price_range  \n",
              "0         20       756  2549     9     7         19            1  \n",
              "1        905      1988  2631    17     3          7            2  \n",
              "2       1263      1716  2603    11     2          9            2  \n",
              "3       1216      1786  2769    16     8         11            2  \n",
              "4       1208      1212  1411     8     2         15            1  "
            ]
          },
          "execution_count": 4,
          "metadata": {},
          "output_type": "execute_result"
        }
      ],
      "source": [
        "# read csv file using pandas\n",
        "df_mobile = pd.read_csv(r'E:\\Backup 14.03.2021\\Desktop\\Imarticus Post\\Online PGA 03\\Machine Learning\\KNN\\Mobile_data.csv')\n",
        "\n",
        "# display the top 5 rows of the dataframe\n",
        "df_mobile.head()"
      ]
    },
    {
      "cell_type": "markdown",
      "metadata": {
        "id": "C31d9Ws9tini"
      },
      "source": [
        "#### Lets take a glance at our dataframe and see how it looks"
      ]
    },
    {
      "cell_type": "markdown",
      "metadata": {
        "id": "T4XJziQUtinj"
      },
      "source": [
        "#### Dimensions of the data"
      ]
    },
    {
      "cell_type": "code",
      "execution_count": null,
      "metadata": {
        "id": "lqlyxAcLtinj",
        "outputId": "d650b088-3c91-428d-cf09-81f13cdd9347"
      },
      "outputs": [
        {
          "data": {
            "text/plain": [
              "(2000, 15)"
            ]
          },
          "execution_count": 5,
          "metadata": {},
          "output_type": "execute_result"
        }
      ],
      "source": [
        "# 'shape' function gives the total number of rows and columns in the data\n",
        "df_mobile.shape"
      ]
    },
    {
      "cell_type": "markdown",
      "metadata": {
        "id": "SSHIYKY2ebns"
      },
      "source": [
        "<a id='data_preparation'></a>\n",
        "# 4. Data Analysis and Preparation"
      ]
    },
    {
      "cell_type": "markdown",
      "metadata": {
        "id": "l48tGdoxebnt"
      },
      "source": [
        "<table align=\"left\">\n",
        "    <tr>\n",
        "        <td width=\"8%\">\n",
        "            <img src=\"todo.png\">\n",
        "        </td>\n",
        "        <td>\n",
        "            <div align=\"left\", style=\"font-size:120%\">\n",
        "                <font color=\"#21618C\">\n",
        "                    <b>Data preparation is the process of cleaning and transforming raw data before building predictive models. <br><br>\n",
        "                        Here, we analyze and prepare data to perform classification techniques:<br>\n",
        "                        1. Check data types. Ensure your data types are correct. Refer data definitions to validate <br>\n",
        "                        2. If data types are not as per business definition, change the data types as per requirement <br>\n",
        "                        3. Study summary statistics<br>\n",
        "                        4. Distribution of variables<br>\n",
        "                        5. Study correlation<br>\n",
        "                        6. Detect outliers<br>\n",
        "                        7. Check for missing values<br><br>\n",
        "                        Note: It is an art to explore data, and one needs more and more practice to gain expertise in this area\n",
        "                    </b>\n",
        "                </font>\n",
        "            </div>\n",
        "        </td>\n",
        "    </tr>\n",
        "</table>"
      ]
    },
    {
      "cell_type": "markdown",
      "metadata": {
        "id": "Y-baDwGWebnu"
      },
      "source": [
        "<a id='Data_Understanding'></a>\n",
        "## 4.1 Understand the Dataset"
      ]
    },
    {
      "cell_type": "markdown",
      "metadata": {
        "id": "O71NsesEebn3"
      },
      "source": [
        "<a id='Data_Types'></a>\n",
        "### 4.1.1 Data Type\n",
        "The main data types in Pandas dataframes are the object, float, int64, bool, and datetime64. To understand each attribute of our data, it is always good for us to know the data type of each column."
      ]
    },
    {
      "cell_type": "markdown",
      "metadata": {
        "id": "ZAXJypAmtink"
      },
      "source": [
        "<table align=\"left\">\n",
        "    <tr>\n",
        "        <td width=\"8%\">\n",
        "            <img src=\"todo.png\">\n",
        "        </td>\n",
        "        <td>\n",
        "            <div align=\"left\", style=\"font-size:120%\">\n",
        "                <font color=\"#21618C\">\n",
        "                    <b>In our dataset, we have numerical and categorical variables. The numeric variables should have data type 'int'/'float' while categorical variables should have data type 'object'.<br><br> \n",
        "                        1. Check for the data type <br>\n",
        "                        2. For any incorrect data type, change the data type with the appropriate type<br>\n",
        "                        3. Recheck for the data type\n",
        "                    </b>\n",
        "                </font>\n",
        "            </div>\n",
        "        </td>\n",
        "    </tr>\n",
        "</table>"
      ]
    },
    {
      "cell_type": "markdown",
      "metadata": {
        "id": "B5Kunfmetinl"
      },
      "source": [
        "**1. Check for the data type**"
      ]
    },
    {
      "cell_type": "code",
      "execution_count": null,
      "metadata": {
        "colab": {
          "base_uri": "https://localhost:8080/",
          "height": 442
        },
        "id": "TnYrzq7Yebn4",
        "outputId": "4bb73ba1-917e-4175-f29d-72a57c788b84",
        "scrolled": false
      },
      "outputs": [
        {
          "data": {
            "text/plain": [
              "battery_power      int64\n",
              "clock_speed      float64\n",
              "fc                 int64\n",
              "int_memory         int64\n",
              "m_dep            float64\n",
              "mobile_wt          int64\n",
              "n_cores            int64\n",
              "pc                 int64\n",
              "px_height          int64\n",
              "px_width           int64\n",
              "ram                int64\n",
              "sc_h               int64\n",
              "sc_w               int64\n",
              "talk_time          int64\n",
              "price_range        int64\n",
              "dtype: object"
            ]
          },
          "execution_count": 6,
          "metadata": {},
          "output_type": "execute_result"
        }
      ],
      "source": [
        "# 'dtypes' gives the data type for each column\n",
        "df_mobile.dtypes"
      ]
    },
    {
      "cell_type": "markdown",
      "metadata": {
        "id": "uvOvxensebn6"
      },
      "source": [
        "<table align=\"left\">\n",
        "    <tr>\n",
        "        <td width=\"8%\">\n",
        "            <img src=\"infer.png\">\n",
        "        </td>\n",
        "        <td>\n",
        "            <div align=\"left\", style=\"font-size:120%\">\n",
        "                <font color=\"#21618C\">\n",
        "                    <b>From the above output, it is clear that the data type of all the variables except 'clock_speed' and 'm_dep' is int64. The data type of 'clock_speed' and 'm_dep' is float64.<br><br></b>\n",
        "                </font>\n",
        "            </div>\n",
        "        </td>\n",
        "    </tr>\n",
        "</table>\n",
        "\n",
        "\n"
      ]
    },
    {
      "cell_type": "code",
      "execution_count": null,
      "metadata": {
        "id": "boiAArrJtinm",
        "outputId": "86ef7e3c-59ba-4241-b72a-da7944a8e24b"
      },
      "outputs": [
        {
          "data": {
            "text/plain": [
              "Index(['battery_power', 'clock_speed', 'fc', 'int_memory', 'm_dep',\n",
              "       'mobile_wt', 'n_cores', 'pc', 'px_height', 'px_width', 'ram', 'sc_h',\n",
              "       'sc_w', 'talk_time', 'price_range'],\n",
              "      dtype='object')"
            ]
          },
          "execution_count": 7,
          "metadata": {},
          "output_type": "execute_result"
        }
      ],
      "source": [
        "df_mobile.columns"
      ]
    },
    {
      "cell_type": "markdown",
      "metadata": {
        "id": "bw8es8bxtinm"
      },
      "source": [
        "<table align=\"left\">\n",
        "    <tr>\n",
        "        <td width=\"8%\">\n",
        "            <img src=\"todo.png\">\n",
        "        </td>\n",
        "        <td>\n",
        "            <div align=\"left\", style=\"font-size:120%\">\n",
        "                <font color=\"#21618C\">\n",
        "                    <b>For convenience, we shall split the target variable from the data frame.\n",
        "Let dataframe 'df_target' be the dataframe containing the dependent variable and dataframe 'df_features' be the set of all independent variables.</b>\n",
        "                </font>\n",
        "            </div>\n",
        "        </td>\n",
        "    </tr>\n",
        "</table>"
      ]
    },
    {
      "cell_type": "code",
      "execution_count": null,
      "metadata": {
        "id": "4HDFgiFctinm"
      },
      "outputs": [],
      "source": [
        "# splitting features and the target variable\n",
        "# consider all the columns except 'RGD' using 'iloc'\n",
        "df_features = df_mobile.iloc[:, df_mobile.columns != 'price_range']\n",
        "\n",
        "# consider the target variable\n",
        "df_target = df_mobile.iloc[:, df_mobile.columns == 'price_range']"
      ]
    },
    {
      "cell_type": "markdown",
      "metadata": {
        "id": "oRuumYGGtinn"
      },
      "source": [
        "Use the dataframe containing features (df_features) for further analysis."
      ]
    },
    {
      "cell_type": "markdown",
      "metadata": {
        "id": "BFOkFedXeboC"
      },
      "source": [
        "<a id='Summary_Statistics'></a>\n",
        "### 4.1.2 Summary Statistics"
      ]
    },
    {
      "cell_type": "markdown",
      "metadata": {
        "id": "SKBfepOvtinn"
      },
      "source": [
        "<table align=\"left\">\n",
        "    <tr>\n",
        "        <td width=\"8%\">\n",
        "            <img src=\"todo.png\">\n",
        "        </td>\n",
        "        <td>\n",
        "            <div align=\"left\", style=\"font-size:120%\">\n",
        "                <font color=\"#21618C\">\n",
        "                    <b> In our dataset, we have both numerical and categorical variables. Now we check for summary statistics of all the variables.<br><br>\n",
        "                        1. For numerical variables, use the describe()<br>\n",
        "                        2. For categorical variables, use the describe(include=object) \n",
        "                        </b>\n",
        "                </font>\n",
        "            </div>\n",
        "        </td>\n",
        "    </tr>\n",
        "</table>"
      ]
    },
    {
      "cell_type": "markdown",
      "metadata": {
        "id": "5I_mXf-Ntino"
      },
      "source": [
        "**1. For numerical variables, use the describe()**"
      ]
    },
    {
      "cell_type": "code",
      "execution_count": null,
      "metadata": {
        "id": "BCq-Il09eboC",
        "outputId": "a7837b7a-f994-4ad1-d962-be936a04043e",
        "scrolled": true
      },
      "outputs": [
        {
          "data": {
            "text/html": [
              "<div>\n",
              "<style scoped>\n",
              "    .dataframe tbody tr th:only-of-type {\n",
              "        vertical-align: middle;\n",
              "    }\n",
              "\n",
              "    .dataframe tbody tr th {\n",
              "        vertical-align: top;\n",
              "    }\n",
              "\n",
              "    .dataframe thead th {\n",
              "        text-align: right;\n",
              "    }\n",
              "</style>\n",
              "<table border=\"1\" class=\"dataframe\">\n",
              "  <thead>\n",
              "    <tr style=\"text-align: right;\">\n",
              "      <th></th>\n",
              "      <th>battery_power</th>\n",
              "      <th>clock_speed</th>\n",
              "      <th>fc</th>\n",
              "      <th>int_memory</th>\n",
              "      <th>m_dep</th>\n",
              "      <th>mobile_wt</th>\n",
              "      <th>n_cores</th>\n",
              "      <th>pc</th>\n",
              "      <th>px_height</th>\n",
              "      <th>px_width</th>\n",
              "      <th>ram</th>\n",
              "      <th>sc_h</th>\n",
              "      <th>sc_w</th>\n",
              "      <th>talk_time</th>\n",
              "    </tr>\n",
              "  </thead>\n",
              "  <tbody>\n",
              "    <tr>\n",
              "      <th>count</th>\n",
              "      <td>2000.000000</td>\n",
              "      <td>2000.000000</td>\n",
              "      <td>2000.000000</td>\n",
              "      <td>2000.000000</td>\n",
              "      <td>2000.000000</td>\n",
              "      <td>2000.000000</td>\n",
              "      <td>2000.000000</td>\n",
              "      <td>2000.000000</td>\n",
              "      <td>2000.000000</td>\n",
              "      <td>2000.000000</td>\n",
              "      <td>2000.000000</td>\n",
              "      <td>2000.000000</td>\n",
              "      <td>2000.000000</td>\n",
              "      <td>2000.000000</td>\n",
              "    </tr>\n",
              "    <tr>\n",
              "      <th>mean</th>\n",
              "      <td>1238.518500</td>\n",
              "      <td>1.522250</td>\n",
              "      <td>4.309500</td>\n",
              "      <td>32.046500</td>\n",
              "      <td>0.501750</td>\n",
              "      <td>140.249000</td>\n",
              "      <td>4.520500</td>\n",
              "      <td>9.916500</td>\n",
              "      <td>645.108000</td>\n",
              "      <td>1251.515500</td>\n",
              "      <td>2124.213000</td>\n",
              "      <td>12.306500</td>\n",
              "      <td>5.767000</td>\n",
              "      <td>11.011000</td>\n",
              "    </tr>\n",
              "    <tr>\n",
              "      <th>std</th>\n",
              "      <td>439.418206</td>\n",
              "      <td>0.816004</td>\n",
              "      <td>4.341444</td>\n",
              "      <td>18.145715</td>\n",
              "      <td>0.288416</td>\n",
              "      <td>35.399655</td>\n",
              "      <td>2.287837</td>\n",
              "      <td>6.064315</td>\n",
              "      <td>443.780811</td>\n",
              "      <td>432.199447</td>\n",
              "      <td>1084.732044</td>\n",
              "      <td>4.213245</td>\n",
              "      <td>4.356398</td>\n",
              "      <td>5.463955</td>\n",
              "    </tr>\n",
              "    <tr>\n",
              "      <th>min</th>\n",
              "      <td>501.000000</td>\n",
              "      <td>0.500000</td>\n",
              "      <td>0.000000</td>\n",
              "      <td>2.000000</td>\n",
              "      <td>0.100000</td>\n",
              "      <td>80.000000</td>\n",
              "      <td>1.000000</td>\n",
              "      <td>0.000000</td>\n",
              "      <td>0.000000</td>\n",
              "      <td>500.000000</td>\n",
              "      <td>256.000000</td>\n",
              "      <td>5.000000</td>\n",
              "      <td>0.000000</td>\n",
              "      <td>2.000000</td>\n",
              "    </tr>\n",
              "    <tr>\n",
              "      <th>25%</th>\n",
              "      <td>851.750000</td>\n",
              "      <td>0.700000</td>\n",
              "      <td>1.000000</td>\n",
              "      <td>16.000000</td>\n",
              "      <td>0.200000</td>\n",
              "      <td>109.000000</td>\n",
              "      <td>3.000000</td>\n",
              "      <td>5.000000</td>\n",
              "      <td>282.750000</td>\n",
              "      <td>874.750000</td>\n",
              "      <td>1207.500000</td>\n",
              "      <td>9.000000</td>\n",
              "      <td>2.000000</td>\n",
              "      <td>6.000000</td>\n",
              "    </tr>\n",
              "    <tr>\n",
              "      <th>50%</th>\n",
              "      <td>1226.000000</td>\n",
              "      <td>1.500000</td>\n",
              "      <td>3.000000</td>\n",
              "      <td>32.000000</td>\n",
              "      <td>0.500000</td>\n",
              "      <td>141.000000</td>\n",
              "      <td>4.000000</td>\n",
              "      <td>10.000000</td>\n",
              "      <td>564.000000</td>\n",
              "      <td>1247.000000</td>\n",
              "      <td>2146.500000</td>\n",
              "      <td>12.000000</td>\n",
              "      <td>5.000000</td>\n",
              "      <td>11.000000</td>\n",
              "    </tr>\n",
              "    <tr>\n",
              "      <th>75%</th>\n",
              "      <td>1615.250000</td>\n",
              "      <td>2.200000</td>\n",
              "      <td>7.000000</td>\n",
              "      <td>48.000000</td>\n",
              "      <td>0.800000</td>\n",
              "      <td>170.000000</td>\n",
              "      <td>7.000000</td>\n",
              "      <td>15.000000</td>\n",
              "      <td>947.250000</td>\n",
              "      <td>1633.000000</td>\n",
              "      <td>3064.500000</td>\n",
              "      <td>16.000000</td>\n",
              "      <td>9.000000</td>\n",
              "      <td>16.000000</td>\n",
              "    </tr>\n",
              "    <tr>\n",
              "      <th>max</th>\n",
              "      <td>1998.000000</td>\n",
              "      <td>3.000000</td>\n",
              "      <td>19.000000</td>\n",
              "      <td>64.000000</td>\n",
              "      <td>1.000000</td>\n",
              "      <td>200.000000</td>\n",
              "      <td>8.000000</td>\n",
              "      <td>20.000000</td>\n",
              "      <td>1960.000000</td>\n",
              "      <td>1998.000000</td>\n",
              "      <td>3998.000000</td>\n",
              "      <td>19.000000</td>\n",
              "      <td>18.000000</td>\n",
              "      <td>20.000000</td>\n",
              "    </tr>\n",
              "  </tbody>\n",
              "</table>\n",
              "</div>"
            ],
            "text/plain": [
              "       battery_power  clock_speed           fc   int_memory        m_dep  \\\n",
              "count    2000.000000  2000.000000  2000.000000  2000.000000  2000.000000   \n",
              "mean     1238.518500     1.522250     4.309500    32.046500     0.501750   \n",
              "std       439.418206     0.816004     4.341444    18.145715     0.288416   \n",
              "min       501.000000     0.500000     0.000000     2.000000     0.100000   \n",
              "25%       851.750000     0.700000     1.000000    16.000000     0.200000   \n",
              "50%      1226.000000     1.500000     3.000000    32.000000     0.500000   \n",
              "75%      1615.250000     2.200000     7.000000    48.000000     0.800000   \n",
              "max      1998.000000     3.000000    19.000000    64.000000     1.000000   \n",
              "\n",
              "         mobile_wt      n_cores           pc    px_height     px_width  \\\n",
              "count  2000.000000  2000.000000  2000.000000  2000.000000  2000.000000   \n",
              "mean    140.249000     4.520500     9.916500   645.108000  1251.515500   \n",
              "std      35.399655     2.287837     6.064315   443.780811   432.199447   \n",
              "min      80.000000     1.000000     0.000000     0.000000   500.000000   \n",
              "25%     109.000000     3.000000     5.000000   282.750000   874.750000   \n",
              "50%     141.000000     4.000000    10.000000   564.000000  1247.000000   \n",
              "75%     170.000000     7.000000    15.000000   947.250000  1633.000000   \n",
              "max     200.000000     8.000000    20.000000  1960.000000  1998.000000   \n",
              "\n",
              "               ram         sc_h         sc_w    talk_time  \n",
              "count  2000.000000  2000.000000  2000.000000  2000.000000  \n",
              "mean   2124.213000    12.306500     5.767000    11.011000  \n",
              "std    1084.732044     4.213245     4.356398     5.463955  \n",
              "min     256.000000     5.000000     0.000000     2.000000  \n",
              "25%    1207.500000     9.000000     2.000000     6.000000  \n",
              "50%    2146.500000    12.000000     5.000000    11.000000  \n",
              "75%    3064.500000    16.000000     9.000000    16.000000  \n",
              "max    3998.000000    19.000000    18.000000    20.000000  "
            ]
          },
          "execution_count": 10,
          "metadata": {},
          "output_type": "execute_result"
        }
      ],
      "source": [
        "# the describe() returns the statistical summary of the variables\n",
        "# by default, it returns the summary of numerical variables\n",
        "df_features.describe()"
      ]
    },
    {
      "cell_type": "markdown",
      "metadata": {
        "id": "BvaxGBkKeboF"
      },
      "source": [
        "<table align=\"left\">\n",
        "    <tr>\n",
        "        <td width=\"8%\">\n",
        "            <img src=\"infer.png\">\n",
        "        </td>\n",
        "        <td>\n",
        "            <div align=\"left\", style=\"font-size:120%\">\n",
        "                <font color=\"#21618C\">\n",
        "<b>The above output illustrates the summary statistics of all the numeric variables namely mean, median (50%), standard deviation, minimum, and maximum values, along with the first and third quantiles.<br>\n",
        "For example, the average battery life of the mobile phones is around 1238 mAh<br><br>\n",
        "It can be seen that the variables have count equal to the number of observations. This means that there are no missing values in any of the column.</b>  \n",
        "                    </font>\n",
        "            </div>\n",
        "        </td>\n",
        "    </tr>\n",
        "</table>"
      ]
    },
    {
      "cell_type": "markdown",
      "metadata": {
        "id": "vhNJtEQktinp"
      },
      "source": [
        "<a id='distribution_variables'></a>\n",
        "### 4.1.3 Distribution of Variables"
      ]
    },
    {
      "cell_type": "markdown",
      "metadata": {
        "id": "bUpiBeEMtinp"
      },
      "source": [
        "<table align=\"left\">\n",
        "    <tr>\n",
        "        <td width=\"8%\">\n",
        "            <img src=\"todo.png\">\n",
        "        </td>\n",
        "        <td>\n",
        "            <div align=\"left\", style=\"font-size:120%\">\n",
        "                <font color=\"#21618C\">\n",
        "                    <b>Check the distribution of all the variables <br><br>\n",
        "                        1. Distribution of numeric independent variables<br>\n",
        "                        2. Distribution of categoric independent variables<br>\n",
        "                        3. Distribution of dependent variable\n",
        "                    </b>\n",
        "                </font>\n",
        "            </div>\n",
        "        </td>\n",
        "    </tr>\n",
        "</table>"
      ]
    },
    {
      "cell_type": "markdown",
      "metadata": {
        "id": "-tWX9ptGeboe"
      },
      "source": [
        "#### 1. Distribution of numeric independent variables."
      ]
    },
    {
      "cell_type": "markdown",
      "metadata": {
        "id": "-gKBBG_ytinq"
      },
      "source": [
        "For the independent numeric variables, we plot the histogram to check the distribution of the variables."
      ]
    },
    {
      "cell_type": "code",
      "execution_count": null,
      "metadata": {
        "id": "Ne5rQHn5ebof",
        "outputId": "d38f97d9-c277-4991-f1e9-0cdc0b8c8a72",
        "scrolled": false
      },
      "outputs": [
        {
          "data": {
            "image/png": "[encoded data removed]",
            "text/plain": [
              "<Figure size 1080x576 with 16 Axes>"
            ]
          },
          "metadata": {
            "needs_background": "light"
          },
          "output_type": "display_data"
        }
      ],
      "source": [
        "# plot the histogram of numeric independent variables\n",
        "# the hist() function considers the numeric variables only, by default\n",
        "df_features.hist()\n",
        "\n",
        "# adjust the subplots\n",
        "plt.tight_layout()\n",
        "\n",
        "# display the plot\n",
        "plt.show()  "
      ]
    },
    {
      "cell_type": "markdown",
      "metadata": {
        "id": "CBFQ138mtins"
      },
      "source": [
        "<table align=\"left\">\n",
        "    <tr>\n",
        "        <td width=\"8%\">\n",
        "            <img src=\"infer.png\">\n",
        "        </td>\n",
        "        <td>\n",
        "            <div align=\"left\", style=\"font-size:120%\">\n",
        "                <font color=\"#21618C\">\n",
        "                    <b> It can be seen that the variables 'fc', 'px_height', and 'sc_w' are right-skewed.<br> <br> \n",
        "                        Other variables show no particular pattern of distribution.  \n",
        "                     </b>\n",
        "                </font>\n",
        "            </div>\n",
        "        </td>\n",
        "    </tr>\n",
        "</table>"
      ]
    },
    {
      "cell_type": "markdown",
      "metadata": {
        "id": "HsPyldAutint"
      },
      "source": [
        "#### 2. Distribution of dependent variable."
      ]
    },
    {
      "cell_type": "markdown",
      "metadata": {
        "id": "Q0vJTeDatint"
      },
      "source": [
        "In section 4.1.1, we have split the dependent variable (RGD) and created a dataframe 'df_target'. Use this dataframe to check the distribution of RGD."
      ]
    },
    {
      "cell_type": "code",
      "execution_count": null,
      "metadata": {
        "scrolled": true,
        "id": "GbCaOxLftint",
        "outputId": "8076c740-d238-46f3-d98f-a62d737d5e63"
      },
      "outputs": [
        {
          "data": {
            "text/plain": [
              "3    500\n",
              "2    500\n",
              "1    500\n",
              "0    500\n",
              "Name: price_range, dtype: int64"
            ]
          },
          "execution_count": 12,
          "metadata": {},
          "output_type": "execute_result"
        }
      ],
      "source": [
        "# get counts of 0's, 1's, 2's and 3's in the 'price_range' variable using 'value_counts()'\n",
        "# store the values in 'class_frequency'\n",
        "class_frequency = df_target.price_range.value_counts()\n",
        "class_frequency"
      ]
    },
    {
      "cell_type": "code",
      "execution_count": null,
      "metadata": {
        "scrolled": false,
        "id": "2AJKU-b7tinu",
        "outputId": "2ecc1369-bf55-41b3-a42f-6f0ab3c8107b"
      },
      "outputs": [
        {
          "data": {
            "image/png": "[encoded data removed]",
            "text/plain": [
              "<Figure size 1080x576 with 1 Axes>"
            ]
          },
          "metadata": {
            "needs_background": "light"
          },
          "output_type": "display_data"
        }
      ],
      "source": [
        "# plot the countplot of the variable 'price_range'\n",
        "sns.countplot(x = df_target.price_range)\n",
        "\n",
        "# use below code to print the values in the graph\n",
        "# 'x' and 'y' gives position of the text\n",
        "# 's' is the text on the plot\n",
        "plt.text(x = -0.05, y = df_target.price_range.value_counts()[0], s = str((class_frequency[0])*100/len(df_target.price_range)) + '%')\n",
        "plt.text(x = 0.95, y = df_target.price_range.value_counts()[1], s = str((class_frequency[1])*100/len(df_target.price_range)) + '%')\n",
        "plt.text(x = 1.95, y = df_target.price_range.value_counts()[2], s = str((class_frequency[2])*100/len(df_target.price_range)) + '%')\n",
        "plt.text(x = 2.95, y = df_target.price_range.value_counts()[3], s = str((class_frequency[3])*100/len(df_target.price_range)) + '%')\n",
        "\n",
        "# add plot and axes labels\n",
        "# set text size using 'fontsize'\n",
        "plt.title('Count Plot for Target Variable (price_range)', fontsize = 15)\n",
        "plt.xlabel('Target Variable', fontsize = 15)\n",
        "plt.ylabel('Count', fontsize = 15)\n",
        "\n",
        "# to show the plot\n",
        "plt.show()"
      ]
    },
    {
      "cell_type": "markdown",
      "metadata": {
        "id": "dZA2yz1Ptinv"
      },
      "source": [
        "<table align=\"left\">\n",
        "    <tr>\n",
        "        <td width=\"8%\">\n",
        "            <img src=\"infer.png\">\n",
        "        </td>\n",
        "        <td>\n",
        "            <div align=\"left\", style=\"font-size:120%\">\n",
        "                <font color=\"#21618C\">\n",
        "                    <b>There are equal observations in each class thus we see that there is a perfect balance between the four classes of the target variable.</b>\n",
        "                </font>\n",
        "            </div>\n",
        "        </td>\n",
        "    </tr>\n",
        "</table>"
      ]
    },
    {
      "cell_type": "markdown",
      "metadata": {
        "id": "5NEDNWWKtinw"
      },
      "source": [
        "#### Group the dataframe by the price range"
      ]
    },
    {
      "cell_type": "markdown",
      "metadata": {
        "id": "fTVhFZ44tinw"
      },
      "source": [
        "#### Generally, customers mainly look for ram while purchasing mobile. So, lets see what is the relation between ram and price_range"
      ]
    },
    {
      "cell_type": "code",
      "execution_count": null,
      "metadata": {
        "id": "ypRUMk3gtinw"
      },
      "outputs": [],
      "source": [
        "price_group = df_mobile.groupby('price_range')"
      ]
    },
    {
      "cell_type": "code",
      "execution_count": null,
      "metadata": {
        "id": "pwjeeKPztinx",
        "outputId": "e6d9c00a-2271-4ddd-a743-c3de1b91b546"
      },
      "outputs": [
        {
          "data": {
            "text/plain": [
              "price_range\n",
              "0     785.314\n",
              "1    1679.490\n",
              "2    2582.816\n",
              "3    3449.232\n",
              "Name: ram, dtype: float64"
            ]
          },
          "execution_count": 15,
          "metadata": {},
          "output_type": "execute_result"
        }
      ],
      "source": [
        "# find the average ram in each price group\n",
        "price_group['ram'].mean()"
      ]
    },
    {
      "cell_type": "code",
      "execution_count": null,
      "metadata": {
        "id": "Va8ob4sqtinx",
        "outputId": "2598a006-6040-41d9-81eb-2433dce79053"
      },
      "outputs": [
        {
          "data": {
            "text/plain": [
              "<AxesSubplot:xlabel='price_range', ylabel='ram'>"
            ]
          },
          "execution_count": 16,
          "metadata": {},
          "output_type": "execute_result"
        },
        {
          "data": {
            "image/png": "[encoded data removed]",
            "text/plain": [
              "<Figure size 1080x576 with 1 Axes>"
            ]
          },
          "metadata": {
            "needs_background": "light"
          },
          "output_type": "display_data"
        }
      ],
      "source": [
        "# create a barplot for price_range and ram\n",
        "sns.barplot('price_range', 'ram', data=df_mobile)"
      ]
    },
    {
      "cell_type": "markdown",
      "metadata": {
        "id": "LiyJKCtHtiny"
      },
      "source": [
        "**Interpretation:** The price of the mobile increases as the ram increases."
      ]
    },
    {
      "cell_type": "markdown",
      "metadata": {
        "id": "vkZahcS9eboQ"
      },
      "source": [
        "<a id='correlation'></a>\n",
        "### 4.1.4 Correlation"
      ]
    },
    {
      "cell_type": "markdown",
      "metadata": {
        "id": "sAagGX-keboT"
      },
      "source": [
        "<table align=\"left\">\n",
        "    <tr>\n",
        "        <td width=\"8%\">\n",
        "            <img src=\"todo.png\">\n",
        "        </td>\n",
        "        <td>\n",
        "            <div align=\"left\", style=\"font-size:120%\">\n",
        "                <font color=\"#21618C\">\n",
        "                    <b> To check the correlation between numerical variables, we perform the following steps:<br><br>\n",
        "                    1. Compute a correlation matrix  <br>\n",
        "                    2. Plot a heatmap for the correlation matrix\n",
        "                    </b>\n",
        "                </font>\n",
        "            </div>\n",
        "        </td>\n",
        "    </tr>\n",
        "</table>"
      ]
    },
    {
      "cell_type": "markdown",
      "metadata": {
        "id": "zKQwISJatinz"
      },
      "source": [
        "**1. Compute a correlation matrix**"
      ]
    },
    {
      "cell_type": "code",
      "execution_count": null,
      "metadata": {
        "id": "_eqWwTr8eboZ",
        "outputId": "99bc4636-e7d5-49b5-f413-84110b856e8d"
      },
      "outputs": [
        {
          "data": {
            "text/html": [
              "<div>\n",
              "<style scoped>\n",
              "    .dataframe tbody tr th:only-of-type {\n",
              "        vertical-align: middle;\n",
              "    }\n",
              "\n",
              "    .dataframe tbody tr th {\n",
              "        vertical-align: top;\n",
              "    }\n",
              "\n",
              "    .dataframe thead th {\n",
              "        text-align: right;\n",
              "    }\n",
              "</style>\n",
              "<table border=\"1\" class=\"dataframe\">\n",
              "  <thead>\n",
              "    <tr style=\"text-align: right;\">\n",
              "      <th></th>\n",
              "      <th>battery_power</th>\n",
              "      <th>clock_speed</th>\n",
              "      <th>fc</th>\n",
              "      <th>int_memory</th>\n",
              "      <th>m_dep</th>\n",
              "      <th>mobile_wt</th>\n",
              "      <th>n_cores</th>\n",
              "      <th>pc</th>\n",
              "      <th>px_height</th>\n",
              "      <th>px_width</th>\n",
              "      <th>ram</th>\n",
              "      <th>sc_h</th>\n",
              "      <th>sc_w</th>\n",
              "      <th>talk_time</th>\n",
              "    </tr>\n",
              "  </thead>\n",
              "  <tbody>\n",
              "    <tr>\n",
              "      <th>battery_power</th>\n",
              "      <td>1.000000</td>\n",
              "      <td>0.011482</td>\n",
              "      <td>0.033334</td>\n",
              "      <td>-0.004004</td>\n",
              "      <td>0.034085</td>\n",
              "      <td>0.001844</td>\n",
              "      <td>-0.029727</td>\n",
              "      <td>0.031441</td>\n",
              "      <td>0.014901</td>\n",
              "      <td>-0.008402</td>\n",
              "      <td>-0.000653</td>\n",
              "      <td>-0.029959</td>\n",
              "      <td>-0.021421</td>\n",
              "      <td>0.052510</td>\n",
              "    </tr>\n",
              "    <tr>\n",
              "      <th>clock_speed</th>\n",
              "      <td>0.011482</td>\n",
              "      <td>1.000000</td>\n",
              "      <td>-0.000434</td>\n",
              "      <td>0.006545</td>\n",
              "      <td>-0.014364</td>\n",
              "      <td>0.012350</td>\n",
              "      <td>-0.005724</td>\n",
              "      <td>-0.005245</td>\n",
              "      <td>-0.014523</td>\n",
              "      <td>-0.009476</td>\n",
              "      <td>0.003443</td>\n",
              "      <td>-0.029078</td>\n",
              "      <td>-0.007378</td>\n",
              "      <td>-0.011432</td>\n",
              "    </tr>\n",
              "    <tr>\n",
              "      <th>fc</th>\n",
              "      <td>0.033334</td>\n",
              "      <td>-0.000434</td>\n",
              "      <td>1.000000</td>\n",
              "      <td>-0.029133</td>\n",
              "      <td>-0.001791</td>\n",
              "      <td>0.023618</td>\n",
              "      <td>-0.013356</td>\n",
              "      <td>0.644595</td>\n",
              "      <td>-0.009990</td>\n",
              "      <td>-0.005176</td>\n",
              "      <td>0.015099</td>\n",
              "      <td>-0.011014</td>\n",
              "      <td>-0.012373</td>\n",
              "      <td>-0.006829</td>\n",
              "    </tr>\n",
              "    <tr>\n",
              "      <th>int_memory</th>\n",
              "      <td>-0.004004</td>\n",
              "      <td>0.006545</td>\n",
              "      <td>-0.029133</td>\n",
              "      <td>1.000000</td>\n",
              "      <td>0.006886</td>\n",
              "      <td>-0.034214</td>\n",
              "      <td>-0.028310</td>\n",
              "      <td>-0.033273</td>\n",
              "      <td>0.010441</td>\n",
              "      <td>-0.008335</td>\n",
              "      <td>0.032813</td>\n",
              "      <td>0.037771</td>\n",
              "      <td>0.011731</td>\n",
              "      <td>-0.002790</td>\n",
              "    </tr>\n",
              "    <tr>\n",
              "      <th>m_dep</th>\n",
              "      <td>0.034085</td>\n",
              "      <td>-0.014364</td>\n",
              "      <td>-0.001791</td>\n",
              "      <td>0.006886</td>\n",
              "      <td>1.000000</td>\n",
              "      <td>0.021756</td>\n",
              "      <td>-0.003504</td>\n",
              "      <td>0.026282</td>\n",
              "      <td>0.025263</td>\n",
              "      <td>0.023566</td>\n",
              "      <td>-0.009434</td>\n",
              "      <td>-0.025348</td>\n",
              "      <td>-0.018388</td>\n",
              "      <td>0.017003</td>\n",
              "    </tr>\n",
              "    <tr>\n",
              "      <th>mobile_wt</th>\n",
              "      <td>0.001844</td>\n",
              "      <td>0.012350</td>\n",
              "      <td>0.023618</td>\n",
              "      <td>-0.034214</td>\n",
              "      <td>0.021756</td>\n",
              "      <td>1.000000</td>\n",
              "      <td>-0.018989</td>\n",
              "      <td>0.018844</td>\n",
              "      <td>0.000939</td>\n",
              "      <td>0.000090</td>\n",
              "      <td>-0.002581</td>\n",
              "      <td>-0.033855</td>\n",
              "      <td>-0.020761</td>\n",
              "      <td>0.006209</td>\n",
              "    </tr>\n",
              "    <tr>\n",
              "      <th>n_cores</th>\n",
              "      <td>-0.029727</td>\n",
              "      <td>-0.005724</td>\n",
              "      <td>-0.013356</td>\n",
              "      <td>-0.028310</td>\n",
              "      <td>-0.003504</td>\n",
              "      <td>-0.018989</td>\n",
              "      <td>1.000000</td>\n",
              "      <td>-0.001193</td>\n",
              "      <td>-0.006872</td>\n",
              "      <td>0.024480</td>\n",
              "      <td>0.004868</td>\n",
              "      <td>-0.000315</td>\n",
              "      <td>0.025826</td>\n",
              "      <td>0.013148</td>\n",
              "    </tr>\n",
              "    <tr>\n",
              "      <th>pc</th>\n",
              "      <td>0.031441</td>\n",
              "      <td>-0.005245</td>\n",
              "      <td>0.644595</td>\n",
              "      <td>-0.033273</td>\n",
              "      <td>0.026282</td>\n",
              "      <td>0.018844</td>\n",
              "      <td>-0.001193</td>\n",
              "      <td>1.000000</td>\n",
              "      <td>-0.018465</td>\n",
              "      <td>0.004196</td>\n",
              "      <td>0.028984</td>\n",
              "      <td>0.004938</td>\n",
              "      <td>-0.023819</td>\n",
              "      <td>0.014657</td>\n",
              "    </tr>\n",
              "    <tr>\n",
              "      <th>px_height</th>\n",
              "      <td>0.014901</td>\n",
              "      <td>-0.014523</td>\n",
              "      <td>-0.009990</td>\n",
              "      <td>0.010441</td>\n",
              "      <td>0.025263</td>\n",
              "      <td>0.000939</td>\n",
              "      <td>-0.006872</td>\n",
              "      <td>-0.018465</td>\n",
              "      <td>1.000000</td>\n",
              "      <td>0.510664</td>\n",
              "      <td>-0.020352</td>\n",
              "      <td>0.059615</td>\n",
              "      <td>0.043038</td>\n",
              "      <td>-0.010645</td>\n",
              "    </tr>\n",
              "    <tr>\n",
              "      <th>px_width</th>\n",
              "      <td>-0.008402</td>\n",
              "      <td>-0.009476</td>\n",
              "      <td>-0.005176</td>\n",
              "      <td>-0.008335</td>\n",
              "      <td>0.023566</td>\n",
              "      <td>0.000090</td>\n",
              "      <td>0.024480</td>\n",
              "      <td>0.004196</td>\n",
              "      <td>0.510664</td>\n",
              "      <td>1.000000</td>\n",
              "      <td>0.004105</td>\n",
              "      <td>0.021599</td>\n",
              "      <td>0.034699</td>\n",
              "      <td>0.006720</td>\n",
              "    </tr>\n",
              "    <tr>\n",
              "      <th>ram</th>\n",
              "      <td>-0.000653</td>\n",
              "      <td>0.003443</td>\n",
              "      <td>0.015099</td>\n",
              "      <td>0.032813</td>\n",
              "      <td>-0.009434</td>\n",
              "      <td>-0.002581</td>\n",
              "      <td>0.004868</td>\n",
              "      <td>0.028984</td>\n",
              "      <td>-0.020352</td>\n",
              "      <td>0.004105</td>\n",
              "      <td>1.000000</td>\n",
              "      <td>0.015996</td>\n",
              "      <td>0.035576</td>\n",
              "      <td>0.010820</td>\n",
              "    </tr>\n",
              "    <tr>\n",
              "      <th>sc_h</th>\n",
              "      <td>-0.029959</td>\n",
              "      <td>-0.029078</td>\n",
              "      <td>-0.011014</td>\n",
              "      <td>0.037771</td>\n",
              "      <td>-0.025348</td>\n",
              "      <td>-0.033855</td>\n",
              "      <td>-0.000315</td>\n",
              "      <td>0.004938</td>\n",
              "      <td>0.059615</td>\n",
              "      <td>0.021599</td>\n",
              "      <td>0.015996</td>\n",
              "      <td>1.000000</td>\n",
              "      <td>0.506144</td>\n",
              "      <td>-0.017335</td>\n",
              "    </tr>\n",
              "    <tr>\n",
              "      <th>sc_w</th>\n",
              "      <td>-0.021421</td>\n",
              "      <td>-0.007378</td>\n",
              "      <td>-0.012373</td>\n",
              "      <td>0.011731</td>\n",
              "      <td>-0.018388</td>\n",
              "      <td>-0.020761</td>\n",
              "      <td>0.025826</td>\n",
              "      <td>-0.023819</td>\n",
              "      <td>0.043038</td>\n",
              "      <td>0.034699</td>\n",
              "      <td>0.035576</td>\n",
              "      <td>0.506144</td>\n",
              "      <td>1.000000</td>\n",
              "      <td>-0.022821</td>\n",
              "    </tr>\n",
              "    <tr>\n",
              "      <th>talk_time</th>\n",
              "      <td>0.052510</td>\n",
              "      <td>-0.011432</td>\n",
              "      <td>-0.006829</td>\n",
              "      <td>-0.002790</td>\n",
              "      <td>0.017003</td>\n",
              "      <td>0.006209</td>\n",
              "      <td>0.013148</td>\n",
              "      <td>0.014657</td>\n",
              "      <td>-0.010645</td>\n",
              "      <td>0.006720</td>\n",
              "      <td>0.010820</td>\n",
              "      <td>-0.017335</td>\n",
              "      <td>-0.022821</td>\n",
              "      <td>1.000000</td>\n",
              "    </tr>\n",
              "  </tbody>\n",
              "</table>\n",
              "</div>"
            ],
            "text/plain": [
              "               battery_power  clock_speed        fc  int_memory     m_dep  \\\n",
              "battery_power       1.000000     0.011482  0.033334   -0.004004  0.034085   \n",
              "clock_speed         0.011482     1.000000 -0.000434    0.006545 -0.014364   \n",
              "fc                  0.033334    -0.000434  1.000000   -0.029133 -0.001791   \n",
              "int_memory         -0.004004     0.006545 -0.029133    1.000000  0.006886   \n",
              "m_dep               0.034085    -0.014364 -0.001791    0.006886  1.000000   \n",
              "mobile_wt           0.001844     0.012350  0.023618   -0.034214  0.021756   \n",
              "n_cores            -0.029727    -0.005724 -0.013356   -0.028310 -0.003504   \n",
              "pc                  0.031441    -0.005245  0.644595   -0.033273  0.026282   \n",
              "px_height           0.014901    -0.014523 -0.009990    0.010441  0.025263   \n",
              "px_width           -0.008402    -0.009476 -0.005176   -0.008335  0.023566   \n",
              "ram                -0.000653     0.003443  0.015099    0.032813 -0.009434   \n",
              "sc_h               -0.029959    -0.029078 -0.011014    0.037771 -0.025348   \n",
              "sc_w               -0.021421    -0.007378 -0.012373    0.011731 -0.018388   \n",
              "talk_time           0.052510    -0.011432 -0.006829   -0.002790  0.017003   \n",
              "\n",
              "               mobile_wt   n_cores        pc  px_height  px_width       ram  \\\n",
              "battery_power   0.001844 -0.029727  0.031441   0.014901 -0.008402 -0.000653   \n",
              "clock_speed     0.012350 -0.005724 -0.005245  -0.014523 -0.009476  0.003443   \n",
              "fc              0.023618 -0.013356  0.644595  -0.009990 -0.005176  0.015099   \n",
              "int_memory     -0.034214 -0.028310 -0.033273   0.010441 -0.008335  0.032813   \n",
              "m_dep           0.021756 -0.003504  0.026282   0.025263  0.023566 -0.009434   \n",
              "mobile_wt       1.000000 -0.018989  0.018844   0.000939  0.000090 -0.002581   \n",
              "n_cores        -0.018989  1.000000 -0.001193  -0.006872  0.024480  0.004868   \n",
              "pc              0.018844 -0.001193  1.000000  -0.018465  0.004196  0.028984   \n",
              "px_height       0.000939 -0.006872 -0.018465   1.000000  0.510664 -0.020352   \n",
              "px_width        0.000090  0.024480  0.004196   0.510664  1.000000  0.004105   \n",
              "ram            -0.002581  0.004868  0.028984  -0.020352  0.004105  1.000000   \n",
              "sc_h           -0.033855 -0.000315  0.004938   0.059615  0.021599  0.015996   \n",
              "sc_w           -0.020761  0.025826 -0.023819   0.043038  0.034699  0.035576   \n",
              "talk_time       0.006209  0.013148  0.014657  -0.010645  0.006720  0.010820   \n",
              "\n",
              "                   sc_h      sc_w  talk_time  \n",
              "battery_power -0.029959 -0.021421   0.052510  \n",
              "clock_speed   -0.029078 -0.007378  -0.011432  \n",
              "fc            -0.011014 -0.012373  -0.006829  \n",
              "int_memory     0.037771  0.011731  -0.002790  \n",
              "m_dep         -0.025348 -0.018388   0.017003  \n",
              "mobile_wt     -0.033855 -0.020761   0.006209  \n",
              "n_cores       -0.000315  0.025826   0.013148  \n",
              "pc             0.004938 -0.023819   0.014657  \n",
              "px_height      0.059615  0.043038  -0.010645  \n",
              "px_width       0.021599  0.034699   0.006720  \n",
              "ram            0.015996  0.035576   0.010820  \n",
              "sc_h           1.000000  0.506144  -0.017335  \n",
              "sc_w           0.506144  1.000000  -0.022821  \n",
              "talk_time     -0.017335 -0.022821   1.000000  "
            ]
          },
          "execution_count": 17,
          "metadata": {},
          "output_type": "execute_result"
        }
      ],
      "source": [
        "# use the corr() function to generate the correlation matrix of the numeric variables\n",
        "corrmat = df_features.corr()\n",
        "\n",
        "# print the correlation matrix\n",
        "corrmat"
      ]
    },
    {
      "cell_type": "markdown",
      "metadata": {
        "id": "_o8zXKpQtinz"
      },
      "source": [
        "**2. Plot the heatmap for the diagonal correlation matrix**"
      ]
    },
    {
      "cell_type": "markdown",
      "metadata": {
        "id": "QNgcQ9N5tin0"
      },
      "source": [
        "A correlation matrix is a symmetric matrix. Plot only the lower triangular entries using a heatmap."
      ]
    },
    {
      "cell_type": "code",
      "execution_count": null,
      "metadata": {
        "colab": {
          "base_uri": "https://localhost:8080/",
          "height": 231
        },
        "id": "oeXcIgFyebob",
        "outputId": "b98fffd7-08ab-4cd6-9b22-e377631cdfea",
        "scrolled": false
      },
      "outputs": [
        {
          "data": {
            "image/png": "[encoded data removed]",
            "text/plain": [
              "<Figure size 1080x576 with 2 Axes>"
            ]
          },
          "metadata": {
            "needs_background": "light"
          },
          "output_type": "display_data"
        }
      ],
      "source": [
        "# use 'mask' to plot a lower triangular correlation matrix \n",
        "# 'triu_indices_from' returns the indices for the upper-triangle of matrix\n",
        "#mask = np.zeros_like(corrmat)\n",
        "#mask[np.triu_indices_from(mask, k=1)] = True\n",
        "\n",
        "# plot the heat map\n",
        "# corr: give the correlation matrix\n",
        "# cmap: color code used for plotting\n",
        "# vmax: gives a maximum range of values for the chart\n",
        "# vmin: gives a minimum range of values for the chart\n",
        "# annot: prints the correlation values in the chart\n",
        "# annot_kws: sets the font size of the annotation\n",
        "# mask: mask the upper traingular matrix values\n",
        "sns.heatmap(corrmat, cmap = 'YlGnBu', vmax = 1.0, vmin = -1.0, annot = True, annot_kws = {\"size\": 12})\n",
        "\n",
        "# display the plot\n",
        "plt.show()"
      ]
    },
    {
      "cell_type": "markdown",
      "metadata": {
        "id": "DiZ_ts_Debod"
      },
      "source": [
        "<table align=\"left\">\n",
        "    <tr>\n",
        "        <td width=\"8%\">\n",
        "            <img src=\"infer.png\">\n",
        "        </td>\n",
        "        <td>\n",
        "            <div align=\"left\", style=\"font-size:120%\">\n",
        "                <font color=\"#21618C\">\n",
        "                    <b>From the above heatmap, it can see that most of the continuous variables are not correlated with each other since the correlation coefficients are close to zero. The maximum positive correlation is 0.64 between 'fc' and 'pc'. SImilarly 'px_height' and 'px_weight' have the correlation of 0.51 and 'sc_h' and 'sc_w' also havve the same correlation value of 0.51.<br><br>\n",
        "Note: The diagonal values are always 1 because it is the correlation of the variable with itself.</b>\n",
        "                </font>\n",
        "            </div>\n",
        "        </td>\n",
        "    </tr>\n",
        "</table>\n"
      ]
    },
    {
      "cell_type": "markdown",
      "metadata": {
        "id": "pPwoQF_Hebod"
      },
      "source": [
        "<table align=\"left\">\n",
        "    <tr>\n",
        "        <td width=\"8%\">\n",
        "            <img src=\"quicktip.png\">\n",
        "        </td>\n",
        "        <td>\n",
        "            <div align=\"left\", style=\"font-size:120%\">\n",
        "                <font color=\"#21618C\">\n",
        "                    <b>Correlation does not imply causation. In other words, if two variables are correlated, it does not mean that one variable caused the other.</b>\n",
        "                </font>\n",
        "            </div>\n",
        "        </td>\n",
        "    </tr>\n",
        "</table>"
      ]
    },
    {
      "cell_type": "markdown",
      "metadata": {
        "id": "OET43huSeboe"
      },
      "source": [
        "<table align=\"left\">\n",
        "    <tr>\n",
        "        <td width=\"8%\">\n",
        "            <img src=\"alsoreadicon.png\">\n",
        "        </td>\n",
        "        <td>\n",
        "            <div align=\"left\", style=\"font-size:120%\">\n",
        "                <font color=\"#21618C\">\n",
        "                    <b>I love to know more:</b> <br><br>\n",
        "                    <a href=\"https://bit.ly/2PBvA8T\">Why correlation does not imply causation </a>\n",
        "                </font>\n",
        "            </div>\n",
        "        </td>\n",
        "    </tr>\n",
        "</table>\n",
        "\n"
      ]
    },
    {
      "cell_type": "markdown",
      "metadata": {
        "id": "FjtDatMReboh"
      },
      "source": [
        "<a id='outliers'></a>\n",
        "### 4.1.5 Discover Outliers "
      ]
    },
    {
      "cell_type": "markdown",
      "metadata": {
        "id": "cey_3951tin2"
      },
      "source": [
        "<table align=\"left\">\n",
        "    <tr>\n",
        "        <td width=\"8%\">\n",
        "            <img src=\"todo.png\">\n",
        "        </td>\n",
        "        <td>\n",
        "            <div align=\"left\", style=\"font-size:120%\">\n",
        "                <font color=\"#21618C\">\n",
        "                    <b>To detect outliers in numeric data, we perform the following:<br><br>\n",
        "                    1. Plot the boxplot for numeric data<br>\n",
        "                    2. Note the variables in which outliers are present<br>\n",
        "                    3. Remove outliers by IQR method<br> \n",
        "                    4. Plot the boxplot to recheck for outliers</b>\n",
        "                </font>\n",
        "            </div>\n",
        "        </td>\n",
        "    </tr>\n",
        "</table>"
      ]
    },
    {
      "cell_type": "markdown",
      "metadata": {
        "id": "OxljRxsItin2"
      },
      "source": [
        "**1. Plot the boxplot for numeric data**"
      ]
    },
    {
      "cell_type": "code",
      "execution_count": null,
      "metadata": {
        "id": "WGaqwSezeboj",
        "outputId": "82c7cd79-e3a5-40ff-c010-32c38b054e64"
      },
      "outputs": [
        {
          "data": {
            "image/png": "[encoded data removed]",
            "text/plain": [
              "<Figure size 1080x576 with 1 Axes>"
            ]
          },
          "metadata": {
            "needs_background": "light"
          },
          "output_type": "display_data"
        }
      ],
      "source": [
        "# plot a boxplot to visualize the outliers in all the numeric variables\n",
        "df_features.boxplot()\n",
        "\n",
        "# set plot label\n",
        "# set text size using 'fontsize'\n",
        "plt.title('Distribution of all Numeric Variables', fontsize = 15)\n",
        "\n",
        "# xticks() returns the x-axis ticks\n",
        "# 'rotation = vertical' rotates the x-axis labels vertically\n",
        "plt.xticks(rotation = 'vertical', fontsize = 15)\n",
        "\n",
        "# display the plot\n",
        "plt.show()"
      ]
    },
    {
      "cell_type": "markdown",
      "metadata": {
        "id": "e68SJ9mYtin3"
      },
      "source": [
        "#### Some boxplots of variables are not seen because of the extreme values in other variables. So let's plot a separate boxplot for these variables"
      ]
    },
    {
      "cell_type": "code",
      "execution_count": null,
      "metadata": {
        "outputId": "82c7cd79-e3a5-40ff-c010-32c38b054e64",
        "id": "9JJh9vj3tin3"
      },
      "outputs": [
        {
          "data": {
            "image/png": "[encoded data removed]",
            "text/plain": [
              "<Figure size 1080x576 with 1 Axes>"
            ]
          },
          "metadata": {
            "needs_background": "light"
          },
          "output_type": "display_data"
        }
      ],
      "source": [
        "# plot a boxplot to visualize the outliers in all the numeric variables\n",
        "df_features.drop(['battery_power', 'mobile_wt', 'px_height', 'px_width', 'ram'], axis = 1).boxplot()\n",
        "\n",
        "# set plot label\n",
        "# set text size using 'fontsize'\n",
        "plt.title('Distribution of the Numeric Variables', fontsize = 15)\n",
        "\n",
        "# xticks() returns the x-axis ticks\n",
        "# 'rotation = vertical' rotates the x-axis labels vertically\n",
        "plt.xticks(rotation = 'vertical', fontsize = 15)\n",
        "\n",
        "# display the plot\n",
        "plt.show()"
      ]
    },
    {
      "cell_type": "markdown",
      "metadata": {
        "id": "v-T8fgHMtin3"
      },
      "source": [
        "**We can see that only 'fc' and 'px_height' have a few outliers. But they are not visible clearly. So we will plot separate boxplots for these two. Otherwise all the other variables do not have any outliers**"
      ]
    },
    {
      "cell_type": "code",
      "execution_count": null,
      "metadata": {
        "id": "FiYgeMF0tin4",
        "outputId": "1c2b93ce-8c08-42f1-e734-e692de0f98a4"
      },
      "outputs": [
        {
          "data": {
            "image/png": "[encoded data removed]",
            "text/plain": [
              "<Figure size 1080x576 with 1 Axes>"
            ]
          },
          "metadata": {
            "needs_background": "light"
          },
          "output_type": "display_data"
        }
      ],
      "source": [
        "# plot boxplots for fc\n",
        "sns.boxplot(df_features['fc'])\n",
        "\n",
        "# set plot label\n",
        "# set text size using 'fontsize'\n",
        "plt.title('Distribution of fc (front camera megapixels)', fontsize = 15)\n",
        "\n",
        "# xticks() returns the x-axis ticks\n",
        "# 'rotation = vertical' rotates the x-axis labels vertically\n",
        "plt.xticks(rotation = 'vertical', fontsize = 15)\n",
        "\n",
        "# display the plot\n",
        "plt.show()"
      ]
    },
    {
      "cell_type": "code",
      "execution_count": null,
      "metadata": {
        "id": "q5n-DLQ7tin4",
        "outputId": "e01dee6c-8dc2-42d8-8eed-9c0132d88ead"
      },
      "outputs": [
        {
          "data": {
            "image/png": "[encoded data removed]",
            "text/plain": [
              "<Figure size 1080x576 with 1 Axes>"
            ]
          },
          "metadata": {
            "needs_background": "light"
          },
          "output_type": "display_data"
        }
      ],
      "source": [
        "# plot boxplots for fc\n",
        "sns.boxplot(df_features['px_height'])\n",
        "\n",
        "# set plot label\n",
        "# set text size using 'fontsize'\n",
        "plt.title('Distribution of px_height', fontsize = 15)\n",
        "\n",
        "# xticks() returns the x-axis ticks\n",
        "# 'rotation = vertical' rotates the x-axis labels vertically\n",
        "plt.xticks(rotation = 'vertical', fontsize = 15)\n",
        "\n",
        "# display the plot\n",
        "plt.show()"
      ]
    },
    {
      "cell_type": "markdown",
      "metadata": {
        "id": "NubqqZBttin5"
      },
      "source": [
        "**2. Note the variables for which outliers are present**"
      ]
    },
    {
      "cell_type": "markdown",
      "metadata": {
        "id": "AXWCnG8yebol"
      },
      "source": [
        "<table align=\"left\">\n",
        "    <tr>\n",
        "        <td width=\"8%\">\n",
        "            <img src=\"infer.png\">\n",
        "        </td>\n",
        "        <td>\n",
        "            <div align=\"left\", style=\"font-size:120%\">\n",
        "                <font color=\"#21618C\">\n",
        "                    <b>From the above plot, we notice that for the variables 'fc' and 'px_height' there are points above the upper extreme or below the lower extreme - these points are outliers in the data. However, the exact location of these points is not precisely seen.<br><br>\n",
        "                        Let us use the IQR method to remove the outliers.<br><br>\n",
        "                        Note: The variables have not been scaled. Thus the boxplots are not visualized efficiently.</b>\n",
        "                </font>\n",
        "            </div>\n",
        "        </td>\n",
        "    </tr>\n",
        "</table>\n",
        "\n"
      ]
    },
    {
      "cell_type": "markdown",
      "metadata": {
        "id": "gqK11WzYebom"
      },
      "source": [
        "<table align=\"left\">\n",
        "    <tr>\n",
        "        <td width=\"8%\">\n",
        "            <img src=\"quicktip.png\">\n",
        "        </td>\n",
        "        <td>\n",
        "            <div align=\"left\", style=\"font-size:120%\">\n",
        "                <font color=\"#21618C\">\n",
        "                    <b>Outliers can also be detected using the standard deviation method if we know that the distribution of values in the sample is Gaussian or Gaussian-like.</b> \n",
        "                </font>\n",
        "            </div>\n",
        "        </td>\n",
        "    </tr>\n",
        "</table>"
      ]
    },
    {
      "cell_type": "markdown",
      "metadata": {
        "id": "BudwXJ6Kebou"
      },
      "source": [
        "<table align=\"left\">\n",
        "    <tr>\n",
        "        <td width=\"8%\">\n",
        "            <img src=\"alsoreadicon.png\">\n",
        "        </td>\n",
        "        <td>\n",
        "            <div align=\"left\", style=\"font-size:120%\">\n",
        "                <font color=\"#21618C\">\n",
        "                    <b>I love to know more:  </b><a href=\"https://bit.ly/33bgNpq\">How to use statistics to identify outliers in data</a>\n",
        "</font>\n",
        "            </div>\n",
        "        </td>\n",
        "    </tr>\n",
        "</table>\n",
        "\n"
      ]
    },
    {
      "cell_type": "markdown",
      "metadata": {
        "id": "9gP8jNCFtin6"
      },
      "source": [
        "**3. Remove outliers by IQR method**"
      ]
    },
    {
      "cell_type": "code",
      "execution_count": null,
      "metadata": {
        "id": "HBc-FXUpebom",
        "outputId": "6d8246f0-fb48-4be6-e268-c0b66788af8f"
      },
      "outputs": [
        {
          "name": "stdout",
          "output_type": "stream",
          "text": [
            "battery_power     763.50\n",
            "clock_speed         1.50\n",
            "fc                  6.00\n",
            "int_memory         32.00\n",
            "m_dep               0.60\n",
            "mobile_wt          61.00\n",
            "n_cores             4.00\n",
            "pc                 10.00\n",
            "px_height         664.50\n",
            "px_width          758.25\n",
            "ram              1857.00\n",
            "sc_h                7.00\n",
            "sc_w                7.00\n",
            "talk_time          10.00\n",
            "dtype: float64\n"
          ]
        }
      ],
      "source": [
        "# calculate the first quartile\n",
        "Q1 = df_features.quantile(0.25)\n",
        "\n",
        "# calculate the third quartile\n",
        "Q3 = df_features.quantile(0.75)\n",
        "\n",
        "# Interquartile Range (IQR) is defined as the difference between the third and first quartile\n",
        "# calculate IQR\n",
        "IQR = Q3 - Q1\n",
        "\n",
        "# print the IQR\n",
        "print(IQR)"
      ]
    },
    {
      "cell_type": "code",
      "execution_count": null,
      "metadata": {
        "id": "OGb5EZBpebop"
      },
      "outputs": [],
      "source": [
        "# remove the outliers from the dataframe 'df_mobile'\n",
        "# retrieve the dataframe without the outliers\n",
        "# '~' returns the values that do not satisfy the given conditions \n",
        "# i.e. it returns values between the range [Q1-1.5*IQR, Q3+1.5*IQR]\n",
        "# '|' is used as 'OR' operator on multiple conditions   \n",
        "# 'any(axis=1)' checks the entire row for atleast one 'True' entry (those rows represents outliers in the data)\n",
        "df_mobile = df_mobile[~((df_mobile < (Q1 - 1.5 * IQR)) | (df_mobile > (Q3 + 1.5 * IQR))).any(axis=1)]\n",
        "\n",
        "# reset the index of the dataframe without outliers\n",
        "df_mobile = df_mobile.reset_index(drop = True)"
      ]
    },
    {
      "cell_type": "markdown",
      "metadata": {
        "id": "4iuSrkGhebor"
      },
      "source": [
        "To confirm that the outliers have been removed; let us visualize the boxplot again."
      ]
    },
    {
      "cell_type": "markdown",
      "metadata": {
        "id": "McNFrc8wtin8"
      },
      "source": [
        "**4. Plot the boxplot to recheck for outliers**"
      ]
    },
    {
      "cell_type": "markdown",
      "metadata": {
        "id": "HTmpOKzQtin8"
      },
      "source": [
        "We plot the boxplots for all variables except for the variable `white corpuscle` for better visualization."
      ]
    },
    {
      "cell_type": "code",
      "execution_count": null,
      "metadata": {
        "id": "2ZmatCI-ebos",
        "outputId": "38229e72-93c9-42ab-d048-fd685c3e384d",
        "scrolled": false
      },
      "outputs": [
        {
          "data": {
            "image/png": "[encoded data removed]",
            "text/plain": [
              "<Figure size 1080x576 with 1 Axes>"
            ]
          },
          "metadata": {
            "needs_background": "light"
          },
          "output_type": "display_data"
        }
      ],
      "source": [
        "# plot multiple boxplots\n",
        "df_mobile.boxplot()\n",
        "\n",
        "# set plot label\n",
        "# set text size using 'fontsize'\n",
        "plt.title('Distribution of Independent Variables', fontsize = 15)\n",
        "\n",
        "# xticks() returns the x-axis ticks\n",
        "# 'rotation = vertical' rotates the x-axis labels vertically\n",
        "plt.xticks(rotation = 'vertical', fontsize = 15)\n",
        "\n",
        "# display the plot\n",
        "plt.show()"
      ]
    },
    {
      "cell_type": "markdown",
      "metadata": {
        "id": "1w9B1eRUtin-"
      },
      "source": [
        "Observing the range of the boxplot, we say that the outliers are removed from the original data."
      ]
    },
    {
      "cell_type": "markdown",
      "metadata": {
        "id": "EfKBJyPytin-"
      },
      "source": [
        "A crude way to know whether the outliers have been removed or not is to check the dimensions of the data. If the dimensions are reduced that implies outliers are removed."
      ]
    },
    {
      "cell_type": "code",
      "execution_count": null,
      "metadata": {
        "id": "ERHiDR7tebov",
        "outputId": "258d0da1-e1e9-433b-9ce7-3306b5a47d41",
        "scrolled": true
      },
      "outputs": [
        {
          "data": {
            "text/plain": [
              "(1980, 15)"
            ]
          },
          "execution_count": 25,
          "metadata": {},
          "output_type": "execute_result"
        }
      ],
      "source": [
        "# check the shape of the data after removal of outliers \n",
        "df_mobile.shape"
      ]
    },
    {
      "cell_type": "markdown",
      "metadata": {
        "id": "SHoFuiXotin_"
      },
      "source": [
        "<table align=\"left\">\n",
        "    <tr>\n",
        "        <td width=\"8%\">\n",
        "           <img src=\"infer.png\">\n",
        "        </td>\n",
        "        <td>\n",
        "            <div align=\"left\", style=\"font-size:120%\">\n",
        "                <font color=\"#21618C\">\n",
        "                    <b>The output shows a reduction in the number of rows. Thus we may say that the potential outliers have been removed.</b>\n",
        "                </font>\n",
        "            </div>\n",
        "        </td>\n",
        "    </tr>\n",
        "</table>"
      ]
    },
    {
      "cell_type": "markdown",
      "metadata": {
        "id": "G-aTB0DseboJ"
      },
      "source": [
        "<a id='Missing_Values'></a>\n",
        "### 4.1.6 Missing Values"
      ]
    },
    {
      "cell_type": "markdown",
      "metadata": {
        "id": "nq5ClsgJtioA"
      },
      "source": [
        "<table align=\"left\">\n",
        "    <tr>\n",
        "        <td width=\"8%\">\n",
        "            <img src=\"todo.png\">\n",
        "        </td>\n",
        "        <td>\n",
        "            <div align=\"left\", style=\"font-size:120%\">\n",
        "                <font color=\"#21618C\">\n",
        "                    <b>First, run a check for the presence of missing values and their percentage for each column. Then choose the right approach to remove them.</b>\n",
        "                </font>\n",
        "            </div>\n",
        "        </td>\n",
        "    </tr>\n",
        "</table>"
      ]
    },
    {
      "cell_type": "code",
      "execution_count": null,
      "metadata": {
        "id": "XsY-ydhgeboM",
        "outputId": "1287fead-9adc-4382-a939-bdba17105d0f"
      },
      "outputs": [
        {
          "data": {
            "text/html": [
              "<div>\n",
              "<style scoped>\n",
              "    .dataframe tbody tr th:only-of-type {\n",
              "        vertical-align: middle;\n",
              "    }\n",
              "\n",
              "    .dataframe tbody tr th {\n",
              "        vertical-align: top;\n",
              "    }\n",
              "\n",
              "    .dataframe thead th {\n",
              "        text-align: right;\n",
              "    }\n",
              "</style>\n",
              "<table border=\"1\" class=\"dataframe\">\n",
              "  <thead>\n",
              "    <tr style=\"text-align: right;\">\n",
              "      <th></th>\n",
              "      <th>Total</th>\n",
              "      <th>Percentage of Missing Values</th>\n",
              "    </tr>\n",
              "  </thead>\n",
              "  <tbody>\n",
              "    <tr>\n",
              "      <th>price_range</th>\n",
              "      <td>0</td>\n",
              "      <td>0.0</td>\n",
              "    </tr>\n",
              "    <tr>\n",
              "      <th>talk_time</th>\n",
              "      <td>0</td>\n",
              "      <td>0.0</td>\n",
              "    </tr>\n",
              "    <tr>\n",
              "      <th>sc_w</th>\n",
              "      <td>0</td>\n",
              "      <td>0.0</td>\n",
              "    </tr>\n",
              "    <tr>\n",
              "      <th>sc_h</th>\n",
              "      <td>0</td>\n",
              "      <td>0.0</td>\n",
              "    </tr>\n",
              "    <tr>\n",
              "      <th>ram</th>\n",
              "      <td>0</td>\n",
              "      <td>0.0</td>\n",
              "    </tr>\n",
              "    <tr>\n",
              "      <th>px_width</th>\n",
              "      <td>0</td>\n",
              "      <td>0.0</td>\n",
              "    </tr>\n",
              "    <tr>\n",
              "      <th>px_height</th>\n",
              "      <td>0</td>\n",
              "      <td>0.0</td>\n",
              "    </tr>\n",
              "    <tr>\n",
              "      <th>pc</th>\n",
              "      <td>0</td>\n",
              "      <td>0.0</td>\n",
              "    </tr>\n",
              "    <tr>\n",
              "      <th>n_cores</th>\n",
              "      <td>0</td>\n",
              "      <td>0.0</td>\n",
              "    </tr>\n",
              "    <tr>\n",
              "      <th>mobile_wt</th>\n",
              "      <td>0</td>\n",
              "      <td>0.0</td>\n",
              "    </tr>\n",
              "    <tr>\n",
              "      <th>m_dep</th>\n",
              "      <td>0</td>\n",
              "      <td>0.0</td>\n",
              "    </tr>\n",
              "    <tr>\n",
              "      <th>int_memory</th>\n",
              "      <td>0</td>\n",
              "      <td>0.0</td>\n",
              "    </tr>\n",
              "    <tr>\n",
              "      <th>fc</th>\n",
              "      <td>0</td>\n",
              "      <td>0.0</td>\n",
              "    </tr>\n",
              "    <tr>\n",
              "      <th>clock_speed</th>\n",
              "      <td>0</td>\n",
              "      <td>0.0</td>\n",
              "    </tr>\n",
              "    <tr>\n",
              "      <th>battery_power</th>\n",
              "      <td>0</td>\n",
              "      <td>0.0</td>\n",
              "    </tr>\n",
              "  </tbody>\n",
              "</table>\n",
              "</div>"
            ],
            "text/plain": [
              "               Total  Percentage of Missing Values\n",
              "price_range        0                           0.0\n",
              "talk_time          0                           0.0\n",
              "sc_w               0                           0.0\n",
              "sc_h               0                           0.0\n",
              "ram                0                           0.0\n",
              "px_width           0                           0.0\n",
              "px_height          0                           0.0\n",
              "pc                 0                           0.0\n",
              "n_cores            0                           0.0\n",
              "mobile_wt          0                           0.0\n",
              "m_dep              0                           0.0\n",
              "int_memory         0                           0.0\n",
              "fc                 0                           0.0\n",
              "clock_speed        0                           0.0\n",
              "battery_power      0                           0.0"
            ]
          },
          "execution_count": 26,
          "metadata": {},
          "output_type": "execute_result"
        }
      ],
      "source": [
        "# sort the variables on the basis of total null values in the variable\n",
        "# 'isnull().sum()' returns the number of missing values in each variable\n",
        "# 'ascending = False' sorts values in the descending order\n",
        "# the variable with highest number of missing values will appear first\n",
        "Total = df_mobile.isnull().sum().sort_values(ascending = False)          \n",
        "\n",
        "# calculate the percentage of missing values\n",
        "# 'ascending = False' sorts values in the descending order\n",
        "# the variable with highest percentage of missing values will appear first\n",
        "Percent = (df_mobile.isnull().sum()*100/df_mobile.isnull().count()).sort_values(ascending = False)   \n",
        "\n",
        "# concat the 'Total' and 'Percent' columns using 'concat' function\n",
        "# 'keys' is the list of column names\n",
        "# 'axis = 1' concats along the columns\n",
        "missing_data = pd.concat([Total, Percent], axis = 1, keys = ['Total', 'Percentage of Missing Values'])    \n",
        "missing_data"
      ]
    },
    {
      "cell_type": "markdown",
      "metadata": {
        "id": "VetiYxdStioB"
      },
      "source": [
        "<table align=\"left\">\n",
        "    <tr>\n",
        "        <td width=\"8%\">\n",
        "            <img src=\"infer.png\">\n",
        "        </td>\n",
        "        <td>\n",
        "            <div align=\"left\", style=\"font-size:120%\">\n",
        "                <font color=\"#21618C\">\n",
        "                    <b>There are no missing values.</b>\n",
        "                </font>\n",
        "            </div>\n",
        "        </td>\n",
        "    </tr>\n",
        "</table>"
      ]
    },
    {
      "cell_type": "markdown",
      "metadata": {
        "id": "Jf9NqvW1tioB"
      },
      "source": [
        "We plot a heatmap for visualization of missing values."
      ]
    },
    {
      "cell_type": "code",
      "execution_count": null,
      "metadata": {
        "id": "JLTjPJoStioC",
        "outputId": "be88799a-642b-4d58-8775-8dc7f227ac4f"
      },
      "outputs": [
        {
          "data": {
            "image/png": "[encoded data removed]",
            "text/plain": [
              "<Figure size 1080x576 with 1 Axes>"
            ]
          },
          "metadata": {
            "needs_background": "light"
          },
          "output_type": "display_data"
        }
      ],
      "source": [
        "# plot heatmap to check null values\n",
        "# 'cbar = False' does not show the color axis \n",
        "sns.heatmap(df_mobile.isnull(), cbar=False)\n",
        "\n",
        "# display the plot\n",
        "plt.show()"
      ]
    },
    {
      "cell_type": "markdown",
      "metadata": {
        "id": "x75sJpHjtioC"
      },
      "source": [
        "The horizontal lines in the heatmap correspond to the missing values. But there are no such line. This means there are no missing values."
      ]
    },
    {
      "cell_type": "markdown",
      "metadata": {
        "id": "3Sxd7olutioC"
      },
      "source": [
        "<table align=\"left\">\n",
        "    <tr>\n",
        "        <td width=\"8%\">\n",
        "            <img src=\"todo.png\">\n",
        "        </td>\n",
        "        <td>\n",
        "            <div align=\"left\", style=\"font-size:120%\">\n",
        "                <font color=\"#21618C\">\n",
        "                    <b>Separate the target variable from the independent variables</b>\n",
        "                </font>\n",
        "            </div>\n",
        "        </td>\n",
        "    </tr>\n",
        "</table>"
      ]
    },
    {
      "cell_type": "code",
      "execution_count": null,
      "metadata": {
        "id": "B0c-tuEAtioC"
      },
      "outputs": [],
      "source": [
        "# store the target variable in the variable 'y'\n",
        "y = df_mobile.price_range\n",
        "\n",
        "# drop the target variable from the dataframe\n",
        "df_mobile = df_mobile.drop('price_range', axis = 1)"
      ]
    },
    {
      "cell_type": "markdown",
      "metadata": {
        "id": "LhmdQf49tioC"
      },
      "source": [
        "<a id='Data_Preparation'></a>\n",
        "## 4.2 Prepare the Data"
      ]
    },
    {
      "cell_type": "markdown",
      "metadata": {
        "id": "SaxLI0ELtioD"
      },
      "source": [
        "<table align=\"left\">\n",
        "    <tr>\n",
        "        <td width=\"8%\">\n",
        "            <img src=\"todo.png\">\n",
        "        </td>\n",
        "        <td>\n",
        "            <div align=\"left\", style=\"font-size:120%\">\n",
        "                <font color=\"#21618C\">\n",
        "                    <b>Scale the numeric variables</b>\n",
        "                </font>\n",
        "            </div>\n",
        "        </td>\n",
        "    </tr>\n",
        "</table>"
      ]
    },
    {
      "cell_type": "markdown",
      "metadata": {
        "id": "Ze4i2P_atioD"
      },
      "source": [
        "We scale the variables to get all the variables in the same range. With this, we can avoid a problem in which some features come to dominate solely because they tend to have larger values than others."
      ]
    },
    {
      "cell_type": "code",
      "execution_count": null,
      "metadata": {
        "id": "nENEiiJptioD",
        "outputId": "3f5064e2-c1a6-4e16-fade-2f8e871bb722"
      },
      "outputs": [
        {
          "data": {
            "text/html": [
              "<div>\n",
              "<style scoped>\n",
              "    .dataframe tbody tr th:only-of-type {\n",
              "        vertical-align: middle;\n",
              "    }\n",
              "\n",
              "    .dataframe tbody tr th {\n",
              "        vertical-align: top;\n",
              "    }\n",
              "\n",
              "    .dataframe thead th {\n",
              "        text-align: right;\n",
              "    }\n",
              "</style>\n",
              "<table border=\"1\" class=\"dataframe\">\n",
              "  <thead>\n",
              "    <tr style=\"text-align: right;\">\n",
              "      <th></th>\n",
              "      <th>battery_power</th>\n",
              "      <th>clock_speed</th>\n",
              "      <th>fc</th>\n",
              "      <th>int_memory</th>\n",
              "      <th>m_dep</th>\n",
              "      <th>mobile_wt</th>\n",
              "      <th>n_cores</th>\n",
              "      <th>pc</th>\n",
              "      <th>px_height</th>\n",
              "      <th>px_width</th>\n",
              "      <th>ram</th>\n",
              "      <th>sc_h</th>\n",
              "      <th>sc_w</th>\n",
              "      <th>talk_time</th>\n",
              "    </tr>\n",
              "  </thead>\n",
              "  <tbody>\n",
              "    <tr>\n",
              "      <th>0</th>\n",
              "      <td>-0.897248</td>\n",
              "      <td>0.830652</td>\n",
              "      <td>-0.765253</td>\n",
              "      <td>-1.382209</td>\n",
              "      <td>0.338657</td>\n",
              "      <td>1.351754</td>\n",
              "      <td>-1.103004</td>\n",
              "      <td>-1.300985</td>\n",
              "      <td>-1.411916</td>\n",
              "      <td>-1.143741</td>\n",
              "      <td>0.390818</td>\n",
              "      <td>-0.787936</td>\n",
              "      <td>0.281378</td>\n",
              "      <td>1.465078</td>\n",
              "    </tr>\n",
              "    <tr>\n",
              "      <th>1</th>\n",
              "      <td>-0.490030</td>\n",
              "      <td>-1.249531</td>\n",
              "      <td>-1.005152</td>\n",
              "      <td>1.155467</td>\n",
              "      <td>0.685011</td>\n",
              "      <td>-0.117795</td>\n",
              "      <td>-0.666564</td>\n",
              "      <td>-0.636909</td>\n",
              "      <td>0.599639</td>\n",
              "      <td>1.710709</td>\n",
              "      <td>0.466425</td>\n",
              "      <td>1.112614</td>\n",
              "      <td>-0.636461</td>\n",
              "      <td>-0.733510</td>\n",
              "    </tr>\n",
              "    <tr>\n",
              "      <th>2</th>\n",
              "      <td>-1.531961</td>\n",
              "      <td>-1.249531</td>\n",
              "      <td>-0.525354</td>\n",
              "      <td>0.493465</td>\n",
              "      <td>1.377719</td>\n",
              "      <td>0.136550</td>\n",
              "      <td>0.206317</td>\n",
              "      <td>-0.636909</td>\n",
              "      <td>1.413354</td>\n",
              "      <td>1.080506</td>\n",
              "      <td>0.440608</td>\n",
              "      <td>-0.312799</td>\n",
              "      <td>-0.865920</td>\n",
              "      <td>-0.367079</td>\n",
              "    </tr>\n",
              "    <tr>\n",
              "      <th>3</th>\n",
              "      <td>-1.413663</td>\n",
              "      <td>1.197743</td>\n",
              "      <td>-1.005152</td>\n",
              "      <td>-1.216708</td>\n",
              "      <td>1.031365</td>\n",
              "      <td>-0.259098</td>\n",
              "      <td>0.642758</td>\n",
              "      <td>-0.138852</td>\n",
              "      <td>1.306525</td>\n",
              "      <td>1.242690</td>\n",
              "      <td>0.593666</td>\n",
              "      <td>0.875045</td>\n",
              "      <td>0.510837</td>\n",
              "      <td>-0.000648</td>\n",
              "    </tr>\n",
              "    <tr>\n",
              "      <th>4</th>\n",
              "      <td>1.329935</td>\n",
              "      <td>-0.392985</td>\n",
              "      <td>2.113534</td>\n",
              "      <td>0.658966</td>\n",
              "      <td>0.338657</td>\n",
              "      <td>0.023508</td>\n",
              "      <td>-1.103004</td>\n",
              "      <td>0.691243</td>\n",
              "      <td>1.288342</td>\n",
              "      <td>-0.087224</td>\n",
              "      <td>-0.658459</td>\n",
              "      <td>-1.025505</td>\n",
              "      <td>-0.865920</td>\n",
              "      <td>0.732215</td>\n",
              "    </tr>\n",
              "  </tbody>\n",
              "</table>\n",
              "</div>"
            ],
            "text/plain": [
              "   battery_power  clock_speed        fc  int_memory     m_dep  mobile_wt  \\\n",
              "0      -0.897248     0.830652 -0.765253   -1.382209  0.338657   1.351754   \n",
              "1      -0.490030    -1.249531 -1.005152    1.155467  0.685011  -0.117795   \n",
              "2      -1.531961    -1.249531 -0.525354    0.493465  1.377719   0.136550   \n",
              "3      -1.413663     1.197743 -1.005152   -1.216708  1.031365  -0.259098   \n",
              "4       1.329935    -0.392985  2.113534    0.658966  0.338657   0.023508   \n",
              "\n",
              "    n_cores        pc  px_height  px_width       ram      sc_h      sc_w  \\\n",
              "0 -1.103004 -1.300985  -1.411916 -1.143741  0.390818 -0.787936  0.281378   \n",
              "1 -0.666564 -0.636909   0.599639  1.710709  0.466425  1.112614 -0.636461   \n",
              "2  0.206317 -0.636909   1.413354  1.080506  0.440608 -0.312799 -0.865920   \n",
              "3  0.642758 -0.138852   1.306525  1.242690  0.593666  0.875045  0.510837   \n",
              "4 -1.103004  0.691243   1.288342 -0.087224 -0.658459 -1.025505 -0.865920   \n",
              "\n",
              "   talk_time  \n",
              "0   1.465078  \n",
              "1  -0.733510  \n",
              "2  -0.367079  \n",
              "3  -0.000648  \n",
              "4   0.732215  "
            ]
          },
          "execution_count": 29,
          "metadata": {},
          "output_type": "execute_result"
        }
      ],
      "source": [
        "# scale all the numerical columns\n",
        "# standardize all the columns of the dataframe 'df_mobile'\n",
        "df_num = df_mobile.apply(lambda rec: (rec - rec.mean()) / rec.std())\n",
        "\n",
        "df_num.head()"
      ]
    },
    {
      "cell_type": "markdown",
      "metadata": {
        "id": "4DnwZ5PGtioD"
      },
      "source": [
        "<table align=\"left\">\n",
        "    <tr>\n",
        "        <td width=\"8%\">\n",
        "            <img src=\"todo.png\">\n",
        "        </td>\n",
        "        <td>\n",
        "            <div align=\"left\", style=\"font-size:120%\">\n",
        "                <font color=\"#21618C\">\n",
        "                    <b>Rename the dataframes (df_mobile_dummy and df_target)</b>\n",
        "                </font>\n",
        "            </div>\n",
        "        </td>\n",
        "    </tr>\n",
        "</table>"
      ]
    },
    {
      "cell_type": "code",
      "execution_count": null,
      "metadata": {
        "id": "WphrZmsytioE"
      },
      "outputs": [],
      "source": [
        "X = df_num.copy()"
      ]
    },
    {
      "cell_type": "code",
      "execution_count": null,
      "metadata": {
        "scrolled": true,
        "id": "MXanHQ8StioE",
        "outputId": "340a3da4-dbc9-46f1-9375-e4bad2db4acc"
      },
      "outputs": [
        {
          "data": {
            "text/html": [
              "<div>\n",
              "<style scoped>\n",
              "    .dataframe tbody tr th:only-of-type {\n",
              "        vertical-align: middle;\n",
              "    }\n",
              "\n",
              "    .dataframe tbody tr th {\n",
              "        vertical-align: top;\n",
              "    }\n",
              "\n",
              "    .dataframe thead th {\n",
              "        text-align: right;\n",
              "    }\n",
              "</style>\n",
              "<table border=\"1\" class=\"dataframe\">\n",
              "  <thead>\n",
              "    <tr style=\"text-align: right;\">\n",
              "      <th></th>\n",
              "      <th>battery_power</th>\n",
              "      <th>clock_speed</th>\n",
              "      <th>fc</th>\n",
              "      <th>int_memory</th>\n",
              "      <th>m_dep</th>\n",
              "      <th>mobile_wt</th>\n",
              "      <th>n_cores</th>\n",
              "      <th>pc</th>\n",
              "      <th>px_height</th>\n",
              "      <th>px_width</th>\n",
              "      <th>ram</th>\n",
              "      <th>sc_h</th>\n",
              "      <th>sc_w</th>\n",
              "      <th>talk_time</th>\n",
              "    </tr>\n",
              "  </thead>\n",
              "  <tbody>\n",
              "    <tr>\n",
              "      <th>0</th>\n",
              "      <td>-0.897248</td>\n",
              "      <td>0.830652</td>\n",
              "      <td>-0.765253</td>\n",
              "      <td>-1.382209</td>\n",
              "      <td>0.338657</td>\n",
              "      <td>1.351754</td>\n",
              "      <td>-1.103004</td>\n",
              "      <td>-1.300985</td>\n",
              "      <td>-1.411916</td>\n",
              "      <td>-1.143741</td>\n",
              "      <td>0.390818</td>\n",
              "      <td>-0.787936</td>\n",
              "      <td>0.281378</td>\n",
              "      <td>1.465078</td>\n",
              "    </tr>\n",
              "    <tr>\n",
              "      <th>1</th>\n",
              "      <td>-0.490030</td>\n",
              "      <td>-1.249531</td>\n",
              "      <td>-1.005152</td>\n",
              "      <td>1.155467</td>\n",
              "      <td>0.685011</td>\n",
              "      <td>-0.117795</td>\n",
              "      <td>-0.666564</td>\n",
              "      <td>-0.636909</td>\n",
              "      <td>0.599639</td>\n",
              "      <td>1.710709</td>\n",
              "      <td>0.466425</td>\n",
              "      <td>1.112614</td>\n",
              "      <td>-0.636461</td>\n",
              "      <td>-0.733510</td>\n",
              "    </tr>\n",
              "    <tr>\n",
              "      <th>2</th>\n",
              "      <td>-1.531961</td>\n",
              "      <td>-1.249531</td>\n",
              "      <td>-0.525354</td>\n",
              "      <td>0.493465</td>\n",
              "      <td>1.377719</td>\n",
              "      <td>0.136550</td>\n",
              "      <td>0.206317</td>\n",
              "      <td>-0.636909</td>\n",
              "      <td>1.413354</td>\n",
              "      <td>1.080506</td>\n",
              "      <td>0.440608</td>\n",
              "      <td>-0.312799</td>\n",
              "      <td>-0.865920</td>\n",
              "      <td>-0.367079</td>\n",
              "    </tr>\n",
              "    <tr>\n",
              "      <th>3</th>\n",
              "      <td>-1.413663</td>\n",
              "      <td>1.197743</td>\n",
              "      <td>-1.005152</td>\n",
              "      <td>-1.216708</td>\n",
              "      <td>1.031365</td>\n",
              "      <td>-0.259098</td>\n",
              "      <td>0.642758</td>\n",
              "      <td>-0.138852</td>\n",
              "      <td>1.306525</td>\n",
              "      <td>1.242690</td>\n",
              "      <td>0.593666</td>\n",
              "      <td>0.875045</td>\n",
              "      <td>0.510837</td>\n",
              "      <td>-0.000648</td>\n",
              "    </tr>\n",
              "    <tr>\n",
              "      <th>4</th>\n",
              "      <td>1.329935</td>\n",
              "      <td>-0.392985</td>\n",
              "      <td>2.113534</td>\n",
              "      <td>0.658966</td>\n",
              "      <td>0.338657</td>\n",
              "      <td>0.023508</td>\n",
              "      <td>-1.103004</td>\n",
              "      <td>0.691243</td>\n",
              "      <td>1.288342</td>\n",
              "      <td>-0.087224</td>\n",
              "      <td>-0.658459</td>\n",
              "      <td>-1.025505</td>\n",
              "      <td>-0.865920</td>\n",
              "      <td>0.732215</td>\n",
              "    </tr>\n",
              "  </tbody>\n",
              "</table>\n",
              "</div>"
            ],
            "text/plain": [
              "   battery_power  clock_speed        fc  int_memory     m_dep  mobile_wt  \\\n",
              "0      -0.897248     0.830652 -0.765253   -1.382209  0.338657   1.351754   \n",
              "1      -0.490030    -1.249531 -1.005152    1.155467  0.685011  -0.117795   \n",
              "2      -1.531961    -1.249531 -0.525354    0.493465  1.377719   0.136550   \n",
              "3      -1.413663     1.197743 -1.005152   -1.216708  1.031365  -0.259098   \n",
              "4       1.329935    -0.392985  2.113534    0.658966  0.338657   0.023508   \n",
              "\n",
              "    n_cores        pc  px_height  px_width       ram      sc_h      sc_w  \\\n",
              "0 -1.103004 -1.300985  -1.411916 -1.143741  0.390818 -0.787936  0.281378   \n",
              "1 -0.666564 -0.636909   0.599639  1.710709  0.466425  1.112614 -0.636461   \n",
              "2  0.206317 -0.636909   1.413354  1.080506  0.440608 -0.312799 -0.865920   \n",
              "3  0.642758 -0.138852   1.306525  1.242690  0.593666  0.875045  0.510837   \n",
              "4 -1.103004  0.691243   1.288342 -0.087224 -0.658459 -1.025505 -0.865920   \n",
              "\n",
              "   talk_time  \n",
              "0   1.465078  \n",
              "1  -0.733510  \n",
              "2  -0.367079  \n",
              "3  -0.000648  \n",
              "4   0.732215  "
            ]
          },
          "execution_count": 31,
          "metadata": {},
          "output_type": "execute_result"
        }
      ],
      "source": [
        "X.head()"
      ]
    },
    {
      "cell_type": "markdown",
      "metadata": {
        "id": "vTqp6_uMtioE"
      },
      "source": [
        "#### Create a generalized function to calculate the performance metrics for the test set."
      ]
    },
    {
      "cell_type": "code",
      "execution_count": null,
      "metadata": {
        "id": "6QSs7tNXtioE"
      },
      "outputs": [],
      "source": [
        "# create a generalized function to calculate the performance metrics values for test set\n",
        "def get_test_report(model):\n",
        "    \n",
        "    # for test set:\n",
        "    # test_pred: prediction made by the model on the test dataset 'X_test'\n",
        "    # y_test: actual values of the target variable for the test dataset\n",
        "\n",
        "    # predict the output of the target variable from the test data \n",
        "    test_pred = model.predict(X_test)\n",
        "\n",
        "    # return the classification report for test data\n",
        "    return(classification_report(y_test, test_pred))"
      ]
    },
    {
      "cell_type": "markdown",
      "metadata": {
        "id": "f0tcgHDntioF"
      },
      "source": [
        "#### Define a function to plot the confusion matrix."
      ]
    },
    {
      "cell_type": "code",
      "execution_count": null,
      "metadata": {
        "id": "Av39nL7SebpS"
      },
      "outputs": [],
      "source": [
        "# define a to plot a confusion matrix for the model\n",
        "def plot_confusion_matrix(model):\n",
        "    \n",
        "    # predict the target values using X_test\n",
        "    y_pred = model.predict(X_test)\n",
        "    \n",
        "    # create a confusion matrix\n",
        "    # pass the actual and predicted target values to the confusion_matrix()\n",
        "    cm = confusion_matrix(y_test, y_pred)\n",
        "\n",
        "    # label the confusion matrix  \n",
        "    # pass the matrix as 'data'\n",
        "    # pass the required column names to the parameter, 'columns'\n",
        "    # pass the required row names to the parameter, 'index'\n",
        "    conf_matrix = pd.DataFrame(data = cm,columns = ['Predicted:0','Predicted:1', 'Predicted:2',\n",
        "                                                    'Predicted:3'],\\\n",
        "                               index = ['Actual:0','Actual:1', 'Actual:2','Actual:3'])\n",
        "\n",
        "    # plot a heatmap to visualize the confusion matrix\n",
        "    # 'annot' prints the value of each grid \n",
        "    # 'fmt = d' returns the integer value in each grid\n",
        "    # 'cmap' assigns color to each grid\n",
        "    # as we do not require different colors for each grid in the heatmap,\n",
        "    # use 'ListedColormap' to assign the specified color to the grid\n",
        "    # 'cbar = False' will not return the color bar to the right side of the heatmap\n",
        "    # 'linewidths' assigns the width to the line that divides each grid\n",
        "    # 'annot_kws = {'size':25})' assigns the font size of the annotated text \n",
        "    sns.heatmap(conf_matrix, annot = True, fmt = 'd', cmap = ListedColormap(['lightskyblue']),\n",
        "                cbar = False, \n",
        "                linewidths = 0.1, annot_kws = {'size':25})\n",
        "\n",
        "    # set the font size of x-axis ticks using 'fontsize'\n",
        "    plt.xticks(fontsize = 20)\n",
        "\n",
        "    # set the font size of y-axis ticks using 'fontsize'\n",
        "    plt.yticks(fontsize = 20)\n",
        "\n",
        "    # display the plot\n",
        "    plt.show()"
      ]
    },
    {
      "cell_type": "markdown",
      "metadata": {
        "id": "wWqJvmdLtioF"
      },
      "source": [
        "<a id=\"knn\"></a>\n",
        "# 5. K Nearest Neighbors (KNN)"
      ]
    },
    {
      "cell_type": "markdown",
      "metadata": {
        "id": "l8iTUQmXtioF"
      },
      "source": [
        "KNN is a classification machine learning algorithm used to identify the class of the observation. This algorithm search for `K` nearest points to determine the class of an observation. To identify the nearest points, it considers the distance metrics like `Euclidean`, `Manhattan`, `Chebyshev`, `Hamming`, and so on."
      ]
    },
    {
      "cell_type": "markdown",
      "metadata": {
        "id": "MgtgsF2wtioG"
      },
      "source": [
        "** Split the dataset into train and test sets**"
      ]
    },
    {
      "cell_type": "code",
      "execution_count": null,
      "metadata": {
        "id": "9XWUmyXrebo_",
        "outputId": "7dcfd65a-f799-464c-d257-c7df8d4b7a06",
        "scrolled": true
      },
      "outputs": [
        {
          "name": "stdout",
          "output_type": "stream",
          "text": [
            "X_train (1386, 14)\n",
            "y_train (1386,)\n",
            "X_test (594, 14)\n",
            "y_test (594,)\n"
          ]
        }
      ],
      "source": [
        "# split data into train subset and test subset\n",
        "# set 'random_state' to generate the same dataset each time you run the code \n",
        "# 'test_size' returns the proportion of data to be included in the test set\n",
        "X_train, X_test, y_train, y_test = train_test_split(X, y, test_size = 0.30, random_state = 10)\n",
        "\n",
        "# check the dimensions of the train & test subset using 'shape'\n",
        "# print dimension of train set\n",
        "print(\"X_train\",X_train.shape)\n",
        "print(\"y_train\",y_train.shape)\n",
        "\n",
        "# print dimension of test set\n",
        "print(\"X_test\",X_test.shape)\n",
        "print(\"y_test\",y_test.shape)"
      ]
    },
    {
      "cell_type": "markdown",
      "metadata": {
        "id": "EQ_SMSLjtioG"
      },
      "source": [
        "#### Build a knn model on a training dataset using euclidean distance."
      ]
    },
    {
      "cell_type": "code",
      "execution_count": null,
      "metadata": {
        "scrolled": false,
        "id": "dN3SVt7CtioG"
      },
      "outputs": [],
      "source": [
        "# instantiate the 'KNeighborsClassifier'\n",
        "# n_neighnors: number of neighbors to consider\n",
        "# default metric is minkowski, and with p=2 it is equivalent to the euclidean metric\n",
        "knn_classification = KNeighborsClassifier(n_neighbors = 3)\n",
        "\n",
        "# fit the model using fit() on train data\n",
        "knn_model = knn_classification.fit(X_train, y_train)"
      ]
    },
    {
      "cell_type": "markdown",
      "metadata": {
        "id": "G5JuwmkytioG"
      },
      "source": [
        "#### Build a confusion matrix."
      ]
    },
    {
      "cell_type": "code",
      "execution_count": null,
      "metadata": {
        "id": "iHmgJkxztioG",
        "outputId": "ac6721d1-8b4d-4f95-e7eb-57f97cebf9a2"
      },
      "outputs": [
        {
          "data": {
            "image/png": "[encoded data removed]",
            "text/plain": [
              "<Figure size 1080x576 with 1 Axes>"
            ]
          },
          "metadata": {
            "needs_background": "light"
          },
          "output_type": "display_data"
        }
      ],
      "source": [
        "# call the function to plot the confusion matrix\n",
        "# pass the knn model to the function\n",
        "plot_confusion_matrix(knn_model)"
      ]
    },
    {
      "cell_type": "markdown",
      "metadata": {
        "id": "4-RVqliktioH"
      },
      "source": [
        "**Calculate performance measures on the test set.**"
      ]
    },
    {
      "cell_type": "code",
      "execution_count": null,
      "metadata": {
        "id": "UP5DA9_qebpC",
        "scrolled": false,
        "outputId": "00377a8f-e013-47ed-ee26-9f5b4f4fe6f7"
      },
      "outputs": [
        {
          "name": "stdout",
          "output_type": "stream",
          "text": [
            "              precision    recall  f1-score   support\n",
            "\n",
            "           0       0.63      0.78      0.70       144\n",
            "           1       0.38      0.39      0.38       150\n",
            "           2       0.45      0.44      0.45       144\n",
            "           3       0.79      0.59      0.68       156\n",
            "\n",
            "    accuracy                           0.55       594\n",
            "   macro avg       0.56      0.55      0.55       594\n",
            "weighted avg       0.56      0.55      0.55       594\n",
            "\n"
          ]
        }
      ],
      "source": [
        "# compute the performance measures on test data\n",
        "# call the function 'get_test_report'\n",
        "# pass the knn model to the function\n",
        "test_report = get_test_report(knn_model)\n",
        "\n",
        "# print the performace measures\n",
        "print(test_report)"
      ]
    },
    {
      "cell_type": "markdown",
      "metadata": {
        "id": "SBSfleUutioH"
      },
      "source": [
        "**Interpretation:** The accuracy is 55% for this model."
      ]
    },
    {
      "cell_type": "markdown",
      "metadata": {
        "id": "7gQTaxyltioH"
      },
      "source": [
        "<a id=\"hyper\"></a>\n",
        "## 5.1 Optimal Value of K (using GridSearchCV)"
      ]
    },
    {
      "cell_type": "code",
      "execution_count": null,
      "metadata": {
        "id": "uPvqLi8ttioI",
        "outputId": "bde2f918-ba0c-42dc-8c56-3d3d204ae4c3"
      },
      "outputs": [
        {
          "name": "stdout",
          "output_type": "stream",
          "text": [
            "Best parameters for KNN Classifier:  {'metric': 'manhattan', 'n_neighbors': 21} \n",
            "\n"
          ]
        }
      ],
      "source": [
        "# create a dictionary with hyperparameters and its values\n",
        "# n_neighnors: number of neighbors to consider\n",
        "# usually, we consider the odd value of 'n_neighnors' to avoid the equal number of nearest points with more than one class\n",
        "# pass the different distance metrics to the parameter, 'metric'\n",
        "tuned_paramaters = {'n_neighbors': np.arange(1, 25, 2),\n",
        "                   'metric': ['hamming','euclidean','manhattan','Chebyshev']}\n",
        " \n",
        "# instantiate the 'KNeighborsClassifier' \n",
        "knn_classification = KNeighborsClassifier()\n",
        "\n",
        "# use GridSearchCV() to find the optimal value of the hyperparameters\n",
        "# estimator: pass the knn model\n",
        "# param_grid: pass the list 'tuned_parameters'\n",
        "# cv: number of folds in k-fold i.e. here cv = 5\n",
        "# scoring: pass the scoring parameter 'accuracy'\n",
        "knn_grid = GridSearchCV(estimator = knn_classification, \n",
        "                        param_grid = tuned_paramaters, \n",
        "                        cv = 5, \n",
        "                        scoring = 'accuracy')\n",
        "\n",
        "# fit the model on X_train and y_train using fit()\n",
        "knn_grid.fit(X_train, y_train)\n",
        "\n",
        "# get the best parameters\n",
        "print('Best parameters for KNN Classifier: ', knn_grid.best_params_, '\\n')"
      ]
    },
    {
      "cell_type": "markdown",
      "metadata": {
        "id": "6A0BDy3AtioI"
      },
      "source": [
        "#### Draw a line plot to see the error rate for each value of K using euclidean distance as a metric of KNN model"
      ]
    },
    {
      "cell_type": "code",
      "execution_count": null,
      "metadata": {
        "id": "lMK27xHatioI",
        "outputId": "a8f663e6-e395-41c4-e7a2-b084d810292d"
      },
      "outputs": [
        {
          "data": {
            "image/png": "[encoded data removed]",
            "text/plain": [
              "<Figure size 1080x576 with 1 Axes>"
            ]
          },
          "metadata": {
            "needs_background": "light"
          },
          "output_type": "display_data"
        }
      ],
      "source": [
        "# consider an empty list to store error rate\n",
        "error_rate = []\n",
        "\n",
        "# use for loop to build a knn model for each K\n",
        "for i in np.arange(1,30,2):\n",
        "    \n",
        "    # setup a knn classifier with k neighbors\n",
        "    # use the 'euclidean' metric \n",
        "    knn = KNeighborsClassifier(i, metric = 'manhattan')\n",
        "   \n",
        "    # fit the model using 'cross_val_score'\n",
        "    # pass the knn model as 'estimator'\n",
        "    # use 5-fold cross validation\n",
        "    score = cross_val_score(knn, X_train, y_train, cv = 5)\n",
        "    \n",
        "    # calculate the mean score\n",
        "    score = score.mean()\n",
        "    \n",
        "    # compute error rate \n",
        "    error_rate.append(1 - score)\n",
        "\n",
        "# plot the error_rate for different values of K \n",
        "plt.plot(range(1,30,2), error_rate)\n",
        "\n",
        "# add plot and axes labels\n",
        "# set text size using 'fontsize'\n",
        "plt.title('Error Rate', fontsize = 15)\n",
        "plt.xlabel('K', fontsize = 15)\n",
        "plt.ylabel('Error Rate', fontsize = 15)\n",
        "\n",
        "# set the x-axis labels\n",
        "plt.xticks(np.arange(1, 30, step = 2))\n",
        "\n",
        "# plot a vertical line across the minimum error rate\n",
        "plt.axvline(x = 21, color = 'red')\n",
        "\n",
        "# display the plot\n",
        "plt.show()"
      ]
    },
    {
      "cell_type": "markdown",
      "metadata": {
        "id": "flxvD0z_tioI"
      },
      "source": [
        "**Interpretation:** We can see that the optimal value of K (= 21) obtained from the GridSearchCV() results in a lowest error rate. "
      ]
    },
    {
      "cell_type": "markdown",
      "metadata": {
        "id": "uQuRy3UJtioJ"
      },
      "source": [
        "**Calculate performance measures on the test set.**"
      ]
    },
    {
      "cell_type": "code",
      "execution_count": null,
      "metadata": {
        "scrolled": true,
        "id": "1oOa_9yMtioJ",
        "outputId": "220112b0-1079-4259-e0b9-b5dd70eb0591"
      },
      "outputs": [
        {
          "name": "stdout",
          "output_type": "stream",
          "text": [
            "Classification Report for test set: \n",
            "               precision    recall  f1-score   support\n",
            "\n",
            "           0       0.77      0.87      0.82       144\n",
            "           1       0.64      0.60      0.62       150\n",
            "           2       0.59      0.67      0.62       144\n",
            "           3       0.87      0.71      0.78       156\n",
            "\n",
            "    accuracy                           0.71       594\n",
            "   macro avg       0.72      0.71      0.71       594\n",
            "weighted avg       0.72      0.71      0.71       594\n",
            "\n"
          ]
        }
      ],
      "source": [
        "# print the performance measures for test set for the model with best parameters\n",
        "# call the function 'get_test_report'\n",
        "# pass the knn model using GridSearch to the function\n",
        "print('Classification Report for test set: \\n', get_test_report(knn_grid))"
      ]
    },
    {
      "cell_type": "markdown",
      "metadata": {
        "id": "_o2Tf31XtioJ"
      },
      "source": [
        "**Interpretation:** The accuracy is 71% for this model."
      ]
    },
    {
      "cell_type": "markdown",
      "metadata": {
        "id": "TssspJi5tioJ"
      },
      "source": [
        "**Kappa score for knn_model**"
      ]
    },
    {
      "cell_type": "code",
      "execution_count": null,
      "metadata": {
        "collapsed": true,
        "id": "6BDxCFfctioJ"
      },
      "outputs": [],
      "source": [
        "y_pred = knn_model.predict(X_test)"
      ]
    },
    {
      "cell_type": "code",
      "execution_count": null,
      "metadata": {
        "id": "oBO-XE9JtioK",
        "outputId": "b72e3873-986a-40ac-c732-715237378e81"
      },
      "outputs": [
        {
          "name": "stdout",
          "output_type": "stream",
          "text": [
            "kappa value: 0.40144018477842447\n"
          ]
        }
      ],
      "source": [
        "# compute the kappa value\n",
        "kappa = cohen_kappa_score(y_test, y_pred)\n",
        "\n",
        "# print the kappa value\n",
        "print('kappa value:',kappa)"
      ]
    },
    {
      "cell_type": "markdown",
      "metadata": {
        "id": "FJ0VUHs4tioK"
      },
      "source": [
        "**Interpretation:** As, the kappa score for the KNN model is 0.4014, we can say that there is fair agrrement between the actual and predicted values."
      ]
    },
    {
      "cell_type": "markdown",
      "metadata": {
        "id": "dGrudA_AtioL"
      },
      "source": [
        "**Kappa score tuned KNN model i.e. knn_grid**"
      ]
    },
    {
      "cell_type": "code",
      "execution_count": null,
      "metadata": {
        "collapsed": true,
        "id": "U-GbAnHTtioL"
      },
      "outputs": [],
      "source": [
        "y_pred = knn_grid.predict(X_test)"
      ]
    },
    {
      "cell_type": "code",
      "execution_count": null,
      "metadata": {
        "id": "f7mv7k5ctioM",
        "outputId": "cfdf77e7-1bfd-4a68-93e8-0dc0df5e8967"
      },
      "outputs": [
        {
          "name": "stdout",
          "output_type": "stream",
          "text": [
            "kappa value: 0.6121164081078021\n"
          ]
        }
      ],
      "source": [
        "# compute the kappa value\n",
        "kappa = cohen_kappa_score(y_test, y_pred)\n",
        "\n",
        "# print the kappa value\n",
        "print('kappa value:',kappa)"
      ]
    },
    {
      "cell_type": "markdown",
      "metadata": {
        "id": "PO6aK7VttioN"
      },
      "source": [
        "**Interpretation:** As, the kappa score for the tuned KNN model is 0.6121, we can say that there is substantial agrrement between the actual and predicted values. The tuned knn model with k=21 is better than the knn model with k=3."
      ]
    }
  ],
  "metadata": {
    "kernelspec": {
      "display_name": "Python 3",
      "language": "python",
      "name": "python3"
    },
    "language_info": {
      "codemirror_mode": {
        "name": "ipython",
        "version": 3
      },
      "file_extension": ".py",
      "mimetype": "text/x-python",
      "name": "python",
      "nbconvert_exporter": "python",
      "pygments_lexer": "ipython3",
      "version": "3.8.5"
    },
    "colab": {
      "provenance": []
    }
  },
  "nbformat": 4,
  "nbformat_minor": 0
}